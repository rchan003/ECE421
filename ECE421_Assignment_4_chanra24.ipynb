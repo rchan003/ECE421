{
  "nbformat": 4,
  "nbformat_minor": 0,
  "metadata": {
    "colab": {
      "provenance": [],
      "gpuType": "T4"
    },
    "kernelspec": {
      "name": "python3",
      "display_name": "Python 3"
    },
    "accelerator": "GPU"
  },
  "cells": [
    {
      "cell_type": "markdown",
      "metadata": {
        "id": "oz9MhPEUMrkC"
      },
      "source": [
        "**Assignment**: Designing and Tuning a Convolutional Neural Network (CNN)\n",
        "\n",
        "**Assignment Description**: There are four parts to this assignment\n",
        "\n",
        "1.   Building a CNN\n",
        "2.   Training and Tuning a CNN\n",
        "3.   Trying Out a New Dataset\n",
        "4.   Open-Ended Exploration\n",
        "\n",
        "You will be largely guided through the first two parts. The third and fourth part are discussion based questions.\n",
        "\n",
        "**Before the experiment, make sure that you have GPU enabled. This setting can be found under *Tools --> Settings***"
      ]
    },
    {
      "cell_type": "code",
      "metadata": {
        "id": "jHvVs2GqXxNF",
        "colab": {
          "base_uri": "https://localhost:8080/"
        },
        "outputId": "6f25c288-3b6a-493b-8f03-608e1dd6f844"
      },
      "source": [
        "#Install Objax\n",
        "!pip --quiet install  objax\n",
        "import objax"
      ],
      "execution_count": null,
      "outputs": [
        {
          "output_type": "stream",
          "name": "stdout",
          "text": [
            "\u001b[?25l     \u001b[90m━━━━━━━━━━━━━━━━━━━━━━━━━━━━━━━━━━━━━━━━\u001b[0m \u001b[32m0.0/86.7 kB\u001b[0m \u001b[31m?\u001b[0m eta \u001b[36m-:--:--\u001b[0m\r\u001b[2K     \u001b[91m━━━━━━━━━━━━━━\u001b[0m\u001b[90m╺\u001b[0m\u001b[90m━━━━━━━━━━━━━━━━━━━━━━━━━\u001b[0m \u001b[32m30.7/86.7 kB\u001b[0m \u001b[31m969.3 kB/s\u001b[0m eta \u001b[36m0:00:01\u001b[0m\r\u001b[2K     \u001b[90m━━━━━━━━━━━━━━━━━━━━━━━━━━━━━━━━━━━━━━━━\u001b[0m \u001b[32m86.7/86.7 kB\u001b[0m \u001b[31m1.3 MB/s\u001b[0m eta \u001b[36m0:00:00\u001b[0m\n",
            "\u001b[?25h"
          ]
        }
      ]
    },
    {
      "cell_type": "code",
      "metadata": {
        "id": "xqQf8f2RBDcx"
      },
      "source": [
        "import tensorflow as tf\n",
        "import tensorflow_datasets as tfds\n",
        "import numpy as np\n",
        "import jax.numpy as jn\n",
        "import random\n",
        "import matplotlib.pyplot as plt"
      ],
      "execution_count": null,
      "outputs": []
    },
    {
      "cell_type": "markdown",
      "metadata": {
        "id": "w_7vcWRFO39r"
      },
      "source": [
        "##**Part 1. Building a CNN**\n",
        "\n",
        "Before we build our CNN model, let's first import a dataset. For our experiment, we load the CIFAR10 dataset from Tensorflow's dataset repository. The CIFAR10 dataset consists of 60,000 32x32 colour images in 10 classes, with 6000 images per class. The 10 different classes represent airplanes, cars, birds, cats, deer, dogs, frogs, horses, ships, and trucks.\n",
        "\n",
        "After loading the dataset, we split the dataset into training, validation and test set. The dataset is originally stored as 50,000 training examples and 10,000 test examples. Instead, we will combine them together and make our own split.\n",
        "\n",
        "Do not change split ratio for now."
      ]
    },
    {
      "cell_type": "code",
      "metadata": {
        "id": "e5VQDzs1XodT"
      },
      "source": [
        "#.load_data() by default returns a split between training and test set.\n",
        "# We then adjust the training set into a format that can be accepted by our CNN\n",
        "(X_train, Y_train), (X_test, Y_test) = tf.keras.datasets.cifar10.load_data()\n",
        "X_train = X_train.transpose(0, 3, 1, 2) / 255.0\n",
        "Y_train = Y_train.flatten()\n",
        "X_test = X_test.transpose(0, 3, 1, 2) / 255.0\n",
        "Y_test = Y_test.flatten()\n",
        "\n",
        "np.random.seed(1)\n",
        "# To create a validation set, we first concate the original splitted dataset into a single dataset\n",
        "# then randomly shuffle the images and labels in the same way (seed = 1)\n",
        "X_data = np.concatenate([X_train, X_test], axis = 0)\n",
        "Y_data = np.concatenate([Y_train, Y_test], axis = 0)\n",
        "\n",
        "N = np.arange(len(X_data))\n",
        "np.random.shuffle(N)\n",
        "X_data = X_data[N]\n",
        "Y_data = Y_data[N]\n",
        "\n",
        "#Next, we partition the randomly shuffled dataset into training, validation and testset according a ratio\n",
        "train_ratio = 0.80\n",
        "valid_ratio = 0.1\n",
        "n_train = int(len(X_data) * train_ratio)\n",
        "n_valid = int(len(X_data) * valid_ratio)\n",
        "\n",
        "X_train, X_valid, X_test = X_data[:n_train], X_data[n_train:n_train+n_valid], X_data[n_train+n_valid:]\n",
        "Y_train, Y_valid, Y_test = Y_data[:n_train], Y_data[n_train:n_train+n_valid], Y_data[n_train+n_valid:]"
      ],
      "execution_count": null,
      "outputs": []
    },
    {
      "cell_type": "markdown",
      "metadata": {
        "id": "szDmexFGT7Qs"
      },
      "source": [
        "\n",
        "Next we will construct a **Base Model**, which in our case is a small CNN."
      ]
    },
    {
      "cell_type": "code",
      "metadata": {
        "id": "_Eeh6jvfBV4p",
        "colab": {
          "base_uri": "https://localhost:8080/"
        },
        "outputId": "efa328fe-104c-4221-d89b-c5f3c136edb3"
      },
      "source": [
        "class ConvNet(objax.Module):\n",
        "  def __init__(self, number_of_channels = 3, number_of_classes = 10):\n",
        "    self.conv_1 = objax.nn.Sequential([objax.nn.Conv2D(number_of_channels, 16, 2), objax.functional.relu])\n",
        "    self.conv_2 = objax.nn.Sequential([objax.nn.Conv2D(16, 32, 2), objax.functional.relu])\n",
        "    self.linear = objax.nn.Linear(32, number_of_classes)\n",
        "\n",
        "  def __call__(self, x):\n",
        "    x = objax.functional.max_pool_2d(self.conv_1(x), 2, 2)\n",
        "    x = self.conv_2(x)\n",
        "\n",
        "    x = x.mean((2,3)) #<--- global average pooling\n",
        "    x = self.linear(x)\n",
        "    return x\n",
        "\n",
        "#The following line creates the CNN\n",
        "model = ConvNet()\n",
        "#You can examine the architecture of our CNN by calling model.vars()\n",
        "model.vars()"
      ],
      "execution_count": null,
      "outputs": [
        {
          "output_type": "execute_result",
          "data": {
            "text/plain": [
              "{'(ConvNet).conv_1(Sequential)[0](Conv2D).b': objax.TrainVar(Array([[[0.]],\n",
              "        [[0.]],\n",
              "        [[0.]],\n",
              "        [[0.]],\n",
              "        [[0.]],\n",
              "        [[0.]],\n",
              "        [[0.]],\n",
              "        [[0.]],\n",
              "        [[0.]],\n",
              "        [[0.]],\n",
              "        [[0.]],\n",
              "        [[0.]],\n",
              "        [[0.]],\n",
              "        [[0.]],\n",
              "        [[0.]],\n",
              "        [[0.]]], dtype=float32), reduce=reduce_mean),\n",
              " '(ConvNet).conv_1(Sequential)[0](Conv2D).w': objax.TrainVar(Array([[[[-1.95130065e-01,  3.17864388e-01, -3.50355774e-01,\n",
              "            1.66896775e-01, -3.54048699e-01,  7.37656534e-01,\n",
              "           -2.44816661e-01,  2.34118104e-01, -4.39767152e-01,\n",
              "           -2.08769798e-01,  1.80792455e-02,  2.36028746e-01,\n",
              "           -2.68211305e-01, -1.55472592e-01,  2.77828723e-01,\n",
              "            1.71292797e-01],\n",
              "          [-5.44255376e-01,  5.89226007e-01, -4.77467358e-01,\n",
              "            3.01810801e-01, -1.44530877e-01,  6.99402809e-01,\n",
              "            3.55288029e-01, -1.38165161e-01, -6.28004789e-01,\n",
              "           -1.63906127e-01,  5.78617275e-01,  1.90377340e-01,\n",
              "            1.61592603e-01,  4.90684435e-02, -2.27334648e-02,\n",
              "           -1.60347205e-02],\n",
              "          [ 7.27746263e-02, -9.97646432e-03, -4.79887784e-01,\n",
              "           -3.69516551e-01, -3.46510075e-02, -2.38614872e-01,\n",
              "           -4.04419750e-01, -3.76962304e-01, -7.03261197e-02,\n",
              "           -3.95097584e-01,  4.63769585e-01,  1.10546932e-01,\n",
              "            4.79405701e-01,  4.87635797e-03,  6.70901313e-02,\n",
              "           -1.16182052e-01]],\n",
              "         [[-2.88925022e-01,  1.86949059e-01, -3.98379356e-01,\n",
              "            6.04412854e-01, -3.75488102e-02, -4.65748519e-01,\n",
              "            2.59561930e-03,  1.11715257e-01,  4.78983134e-01,\n",
              "            3.98253649e-01,  2.91740835e-01,  9.25204232e-02,\n",
              "           -2.33952597e-01, -2.31496066e-01, -2.24382535e-01,\n",
              "            2.21466690e-01],\n",
              "          [ 7.89458677e-02,  2.42562562e-01,  2.22861245e-01,\n",
              "            5.89552298e-02,  3.89218569e-01,  3.25257659e-01,\n",
              "            2.55612701e-01,  2.01048002e-01,  6.99495524e-02,\n",
              "           -1.27067298e-01,  5.98819435e-01, -1.10752411e-01,\n",
              "           -1.74192328e-03,  2.03387097e-01, -9.72498134e-02,\n",
              "            5.57565510e-01],\n",
              "          [ 1.10182315e-01,  1.77437738e-01, -1.97893679e-01,\n",
              "           -4.20501441e-01, -7.99874961e-02,  3.34442914e-01,\n",
              "            2.04187676e-01,  8.60866345e-03,  1.52684033e-01,\n",
              "           -9.05865505e-02, -1.63009495e-01,  5.22364020e-01,\n",
              "           -5.80915809e-02,  6.79404810e-02,  2.80135155e-01,\n",
              "            2.64910283e-03]]],\n",
              "        [[[ 6.24607503e-02, -6.62980080e-01, -3.15903217e-01,\n",
              "           -1.38932988e-01,  8.14682171e-02, -2.27297962e-01,\n",
              "           -3.31510484e-01, -2.04230100e-02,  8.16789389e-01,\n",
              "            8.69608391e-03, -2.20319629e-02,  6.13478959e-01,\n",
              "            3.32962513e-01,  4.77967970e-02,  2.11453333e-01,\n",
              "            1.56987980e-01],\n",
              "          [-1.68241650e-01,  2.08871104e-02, -5.27015448e-01,\n",
              "            2.94454128e-01,  3.11768472e-01,  4.61177945e-01,\n",
              "            1.84061214e-01, -1.69085830e-01,  5.76169863e-02,\n",
              "           -2.35155314e-01,  1.32877216e-01, -4.42695677e-01,\n",
              "           -8.10039341e-02, -4.88323048e-02, -8.95996615e-02,\n",
              "            2.46924296e-01],\n",
              "          [-7.24215806e-02, -1.30584119e-02, -4.11095880e-02,\n",
              "           -1.22320212e-01,  7.82729611e-02,  1.18977226e-01,\n",
              "           -9.20553058e-02, -1.04364328e-01, -3.95379931e-01,\n",
              "           -3.45495045e-01,  3.04744728e-02, -1.44733891e-01,\n",
              "           -1.60183311e-01, -1.80858433e-01, -3.39127123e-01,\n",
              "            3.02169949e-01]],\n",
              "         [[-4.17083234e-01,  2.35614162e-02, -2.26719435e-02,\n",
              "            2.70276163e-02, -1.30763903e-01, -1.00818805e-01,\n",
              "           -4.32735264e-01,  2.05124155e-01,  9.62806568e-02,\n",
              "            1.25718385e-01, -3.67435396e-01,  2.24219158e-01,\n",
              "            2.36024767e-01, -3.40944938e-02, -1.22975208e-01,\n",
              "           -4.93488237e-02],\n",
              "          [-1.10313743e-01, -3.29033792e-01,  8.15793779e-03,\n",
              "            2.98896104e-01,  3.64789277e-01,  2.05533743e-01,\n",
              "           -9.72710028e-02, -7.30467364e-02, -1.48737997e-01,\n",
              "            1.18026890e-01,  1.77962437e-01, -1.44816833e-02,\n",
              "           -1.89300820e-01,  2.28274781e-02, -1.67209022e-02,\n",
              "           -2.62972955e-02],\n",
              "          [-3.79867166e-01, -5.84224045e-01,  2.04761013e-01,\n",
              "           -1.65330738e-01,  1.85258508e-01, -3.49806160e-01,\n",
              "           -4.86338288e-01, -6.43527135e-02,  3.58175993e-01,\n",
              "            1.61867887e-01,  9.17704925e-02,  2.21088305e-01,\n",
              "           -1.52367592e-01, -3.59886587e-01, -5.09504914e-01,\n",
              "            3.72664741e-04]]]], dtype=float32), reduce=reduce_mean),\n",
              " '(ConvNet).conv_2(Sequential)[0](Conv2D).b': objax.TrainVar(Array([[[0.]],\n",
              "        [[0.]],\n",
              "        [[0.]],\n",
              "        [[0.]],\n",
              "        [[0.]],\n",
              "        [[0.]],\n",
              "        [[0.]],\n",
              "        [[0.]],\n",
              "        [[0.]],\n",
              "        [[0.]],\n",
              "        [[0.]],\n",
              "        [[0.]],\n",
              "        [[0.]],\n",
              "        [[0.]],\n",
              "        [[0.]],\n",
              "        [[0.]],\n",
              "        [[0.]],\n",
              "        [[0.]],\n",
              "        [[0.]],\n",
              "        [[0.]],\n",
              "        [[0.]],\n",
              "        [[0.]],\n",
              "        [[0.]],\n",
              "        [[0.]],\n",
              "        [[0.]],\n",
              "        [[0.]],\n",
              "        [[0.]],\n",
              "        [[0.]],\n",
              "        [[0.]],\n",
              "        [[0.]],\n",
              "        [[0.]],\n",
              "        [[0.]]], dtype=float32), reduce=reduce_mean),\n",
              " '(ConvNet).conv_2(Sequential)[0](Conv2D).w': objax.TrainVar(Array([[[[ 1.58718169e-01,  1.08660042e-01, -2.07587346e-01, ...,\n",
              "            1.66938230e-01,  2.85155386e-01, -2.47469977e-01],\n",
              "          [-1.80159673e-01, -7.54810870e-02, -1.02343209e-01, ...,\n",
              "            1.65593147e-01,  3.52494866e-02, -2.64466852e-01],\n",
              "          [-7.29894489e-02, -3.08400542e-02,  2.39454195e-01, ...,\n",
              "            1.15434580e-01,  2.22668916e-01, -6.76444024e-02],\n",
              "          ...,\n",
              "          [ 7.11235553e-02,  2.26760015e-01,  1.22773282e-01, ...,\n",
              "            1.53727829e-01,  2.51096636e-02, -2.62852192e-01],\n",
              "          [ 1.65239051e-02,  1.94144771e-01, -2.45667532e-01, ...,\n",
              "           -8.47992450e-02, -9.22224000e-02, -1.11567527e-02],\n",
              "          [ 2.50265568e-01, -9.88640264e-02, -1.43489689e-01, ...,\n",
              "            4.90471870e-02,  1.04264781e-01,  1.59536198e-01]],\n",
              "         [[-5.61206974e-02,  7.36330673e-02, -5.83973303e-02, ...,\n",
              "            6.98190629e-02, -1.79753348e-01, -4.19948157e-03],\n",
              "          [ 7.12077133e-03,  1.16166994e-01, -2.25117132e-01, ...,\n",
              "           -8.28907043e-02,  1.66279390e-01,  1.12309515e-01],\n",
              "          [ 7.54199326e-02,  2.02152744e-01,  2.05027744e-01, ...,\n",
              "           -2.40195513e-01, -7.26987273e-02, -1.92222267e-01],\n",
              "          ...,\n",
              "          [ 2.86263581e-02,  4.69493605e-02, -1.72991604e-01, ...,\n",
              "            3.20117585e-02, -1.83934286e-01,  1.05748884e-01],\n",
              "          [ 4.58045043e-02, -7.25856498e-02, -1.57624602e-01, ...,\n",
              "            6.71750754e-02,  2.21289203e-01, -9.37248021e-02],\n",
              "          [-6.00361936e-02, -1.23153822e-02,  1.22036725e-01, ...,\n",
              "           -1.65508628e-01,  5.78426197e-02,  6.66397139e-02]]],\n",
              "        [[[-4.52394448e-02, -2.47011989e-01, -1.77284554e-02, ...,\n",
              "            1.78079709e-01, -5.33815995e-02,  1.13550380e-01],\n",
              "          [-1.10116489e-01,  9.82821807e-02,  1.03845246e-01, ...,\n",
              "           -5.75795285e-02,  1.02698624e-01,  3.77026573e-02],\n",
              "          [-7.71704912e-02,  6.66351095e-02,  1.95481330e-02, ...,\n",
              "            2.01682091e-01, -1.08949862e-01, -7.56021813e-02],\n",
              "          ...,\n",
              "          [ 1.42653927e-01, -2.17028409e-01,  2.60880776e-02, ...,\n",
              "            8.72948393e-02,  1.32341474e-01, -1.37308851e-01],\n",
              "          [-6.63314909e-02, -2.79128075e-01,  1.50692984e-01, ...,\n",
              "            1.03640892e-01,  1.25052601e-01, -1.56334415e-01],\n",
              "          [-1.64688066e-01, -2.95368209e-02,  3.38224359e-02, ...,\n",
              "            1.27169520e-01, -7.32438117e-02,  3.18592489e-02]],\n",
              "         [[-8.47420841e-02, -3.86412777e-02, -5.14258146e-02, ...,\n",
              "           -1.12620719e-01, -1.34877533e-01,  1.51772322e-02],\n",
              "          [-3.12402155e-02,  7.71821290e-02,  5.86514579e-05, ...,\n",
              "           -4.31428626e-02, -4.44031730e-02,  4.68967035e-02],\n",
              "          [-1.00986427e-02,  3.22014615e-02,  1.00191571e-01, ...,\n",
              "           -1.86368704e-01, -2.10872039e-01,  1.16115473e-01],\n",
              "          ...,\n",
              "          [ 6.93277121e-02,  2.03244612e-01,  6.57477900e-02, ...,\n",
              "            2.49343310e-02, -9.77049097e-02, -7.03437999e-02],\n",
              "          [ 2.37108320e-01, -3.59120630e-02, -1.06511883e-01, ...,\n",
              "            3.10814530e-01,  1.17473090e-02, -2.60256100e-02],\n",
              "          [ 1.17118485e-01,  2.69705560e-02, -2.63560832e-01, ...,\n",
              "            1.24597706e-01, -1.88864633e-01, -1.81978524e-01]]]],      dtype=float32), reduce=reduce_mean),\n",
              " '(ConvNet).linear(Linear).b': objax.TrainVar(Array([0., 0., 0., 0., 0., 0., 0., 0., 0., 0.], dtype=float32), reduce=reduce_mean),\n",
              " '(ConvNet).linear(Linear).w': objax.TrainVar(Array([[-9.67141390e-02, -1.11979745e-01,  5.16211987e-02,\n",
              "          3.30330282e-01, -3.69310156e-02, -1.88082278e-01,\n",
              "         -1.91329136e-01,  9.79769081e-02, -6.97586760e-02,\n",
              "         -2.12624427e-02],\n",
              "        [-4.01432551e-02,  1.06549449e-01, -1.93131208e-01,\n",
              "          1.49628669e-01,  6.98398277e-02,  2.33937986e-02,\n",
              "          3.21768731e-01,  2.34138995e-01, -1.39558688e-01,\n",
              "          3.04657161e-01],\n",
              "        [-6.35816380e-02, -7.64160678e-02, -5.29019050e-02,\n",
              "          3.98775339e-01, -5.71241044e-02,  2.24826202e-01,\n",
              "          2.86270499e-01, -7.01134875e-02,  3.27995382e-02,\n",
              "          4.37498614e-02],\n",
              "        [-1.15661666e-01,  2.11856380e-01,  2.08982199e-01,\n",
              "         -7.63832312e-03, -1.59032494e-01,  7.56803609e-04,\n",
              "         -2.81420857e-01, -4.10706997e-02, -7.29358047e-02,\n",
              "         -1.12977862e-01],\n",
              "        [ 3.92705083e-01,  1.89225614e-01,  8.62704515e-02,\n",
              "         -2.34464243e-01, -3.63791496e-01, -1.42147258e-01,\n",
              "         -1.33453697e-01,  2.76641905e-01, -1.26397967e-01,\n",
              "         -1.25351787e-01],\n",
              "        [-3.01798582e-01, -3.67336534e-03,  2.46156782e-01,\n",
              "          2.92098951e-02, -6.24331355e-01, -1.03408851e-01,\n",
              "         -4.76773739e-01,  1.43536970e-01,  5.73821515e-02,\n",
              "          1.68887824e-01],\n",
              "        [ 4.23037261e-01, -1.61757678e-01, -2.48706192e-01,\n",
              "          4.83177066e-01,  2.44334042e-01,  3.60648818e-02,\n",
              "         -2.45833367e-01, -8.29806924e-02, -1.41523451e-01,\n",
              "         -5.24320424e-01],\n",
              "        [-4.50670391e-01,  1.64803967e-01,  2.90386975e-01,\n",
              "         -2.18996406e-01,  1.97197169e-01, -3.25176753e-02,\n",
              "         -2.94481754e-01, -1.77024491e-02, -1.94303766e-01,\n",
              "         -1.03785522e-01],\n",
              "        [ 4.84937169e-02, -4.00018096e-02, -9.04254988e-02,\n",
              "         -8.79188627e-02, -2.94697970e-01,  3.46092463e-01,\n",
              "          2.89947808e-01,  1.70591444e-01,  2.71585733e-01,\n",
              "         -6.26005605e-02],\n",
              "        [-1.08507782e-01,  7.20645934e-02, -3.65045249e-01,\n",
              "          5.54633856e-01,  4.02095377e-01, -1.53490365e-01,\n",
              "         -3.85318011e-01, -4.66275841e-01, -2.57550478e-01,\n",
              "         -1.34808376e-01],\n",
              "        [-3.35339248e-01,  4.76227514e-02,  3.61607298e-02,\n",
              "         -3.00865974e-02, -2.43273720e-01,  2.28279144e-01,\n",
              "         -2.96618819e-01, -1.69399306e-01, -4.24219519e-01,\n",
              "         -5.52993417e-02],\n",
              "        [-1.79527536e-01,  4.16235439e-02,  6.04088679e-02,\n",
              "         -1.02063492e-01, -3.34500104e-01,  1.73993245e-01,\n",
              "         -1.20360970e-01,  2.02067792e-01,  3.41678143e-01,\n",
              "          2.37480402e-02],\n",
              "        [ 2.28037536e-01, -2.67023835e-02, -1.09981649e-01,\n",
              "         -8.20049420e-02,  7.91399106e-02, -1.16325267e-01,\n",
              "         -5.50608151e-02,  1.31812960e-01,  2.60069430e-01,\n",
              "          1.13183290e-01],\n",
              "        [ 8.67969617e-02, -2.01053992e-01,  1.25097156e-01,\n",
              "         -2.92274300e-02,  7.51564726e-02, -2.38528118e-01,\n",
              "          1.92788929e-01, -3.81614804e-01, -2.85807364e-02,\n",
              "         -1.81178629e-01],\n",
              "        [ 4.79761995e-02, -1.89293742e-01, -1.97987437e-01,\n",
              "         -8.21159333e-02,  2.82275621e-02, -5.87893501e-02,\n",
              "          5.44270827e-03,  7.67760947e-02,  8.20399672e-02,\n",
              "         -2.01765612e-01],\n",
              "        [-2.32051641e-01,  2.37563863e-01, -1.05114929e-01,\n",
              "          1.78592980e-01, -2.74231527e-02, -2.56153584e-01,\n",
              "          6.59259632e-02, -3.84759784e-01, -2.23675072e-01,\n",
              "         -1.83411375e-01],\n",
              "        [ 2.27465436e-01,  3.95903587e-01, -1.66958153e-01,\n",
              "          1.32433593e-01,  2.16267914e-01, -1.87208951e-01,\n",
              "         -1.93700343e-01, -2.50851452e-01,  7.77995738e-04,\n",
              "          2.26551712e-01],\n",
              "        [ 3.52990925e-01, -2.68952120e-02, -6.71023056e-02,\n",
              "         -2.27122963e-03, -7.12168738e-02, -4.92354482e-02,\n",
              "          1.12696610e-01, -4.30585414e-01, -1.94296017e-01,\n",
              "         -3.22712839e-01],\n",
              "        [ 7.57539365e-03,  7.05210716e-02, -1.24589227e-01,\n",
              "         -2.19300278e-02,  1.51597708e-01, -4.62840229e-01,\n",
              "          2.06595331e-01, -3.96274239e-01, -2.06149429e-01,\n",
              "          4.57566269e-02],\n",
              "        [-3.38648260e-01,  3.87747020e-01, -2.73667455e-01,\n",
              "         -2.57846206e-01,  1.73699737e-01,  1.05035894e-01,\n",
              "         -3.23635161e-01, -3.83920848e-01, -3.79354868e-04,\n",
              "          3.93472344e-01],\n",
              "        [ 3.36514562e-01, -2.10337549e-01, -2.11278759e-02,\n",
              "         -1.58518195e-01,  1.22449167e-01,  1.14889350e-03,\n",
              "          1.34987682e-01,  1.99275725e-02,  2.50130594e-01,\n",
              "         -1.40052810e-01],\n",
              "        [-1.46075368e-01, -2.65715212e-01, -2.39711940e-01,\n",
              "          9.33315530e-02, -1.72836632e-01,  3.04075330e-01,\n",
              "         -7.30086267e-02,  1.45431787e-01, -9.98225138e-02,\n",
              "          1.27201557e-01],\n",
              "        [ 3.72755587e-01,  8.44075605e-02, -2.97832102e-01,\n",
              "         -1.60892218e-01,  8.21138769e-02, -2.79123187e-01,\n",
              "          1.69676676e-01, -2.97947675e-01,  2.45515496e-01,\n",
              "          5.20173945e-02],\n",
              "        [-1.22614183e-01, -3.46870929e-01, -8.06514099e-02,\n",
              "          1.11541254e-02,  8.68782029e-02,  4.89995152e-01,\n",
              "         -2.40342975e-01,  2.94921063e-02,  1.27437666e-01,\n",
              "          6.88080266e-02],\n",
              "        [-1.94023028e-01, -1.24425247e-01, -1.62342191e-01,\n",
              "          1.89565346e-01,  3.05960804e-01,  1.21393725e-01,\n",
              "          4.18133765e-01, -3.91070336e-01,  2.32086033e-01,\n",
              "          2.37681478e-01],\n",
              "        [ 2.29160830e-01, -5.29941134e-02, -2.61673123e-01,\n",
              "          5.61297461e-02, -6.66502938e-02,  2.00160950e-01,\n",
              "         -2.15820998e-01, -2.16080517e-01, -8.05568174e-02,\n",
              "         -1.36067674e-01],\n",
              "        [-3.23443532e-01, -6.11478277e-02, -2.24554360e-01,\n",
              "          1.21204853e-01,  3.15169618e-02, -1.21051922e-01,\n",
              "         -1.37285814e-01,  2.79489517e-01, -2.24758655e-01,\n",
              "          1.78716868e-01],\n",
              "        [ 7.49934092e-02,  2.60895714e-02,  2.43815094e-01,\n",
              "          6.61215261e-02,  3.17371152e-02,  4.48926896e-01,\n",
              "          2.10830495e-01,  1.93077743e-01, -2.01971754e-01,\n",
              "         -1.30377263e-01],\n",
              "        [-1.27797842e-01,  3.31727743e-01, -1.46777734e-01,\n",
              "          7.54929567e-03, -3.60071398e-02, -2.08730415e-01,\n",
              "          1.79823115e-01,  3.74730200e-01,  2.73893565e-01,\n",
              "          1.53423429e-01],\n",
              "        [ 1.62229180e-01, -1.26492992e-01, -3.81394774e-01,\n",
              "         -3.97437274e-01,  8.95820260e-02,  1.60460509e-02,\n",
              "         -7.26788819e-01, -1.51165454e-02, -3.43826741e-01,\n",
              "         -7.65027329e-02],\n",
              "        [ 7.22112060e-02,  1.44710138e-01, -2.58138418e-01,\n",
              "          6.82087168e-02,  1.03661969e-01, -2.17879340e-01,\n",
              "         -6.14278344e-03,  8.27430859e-02, -3.07896644e-01,\n",
              "         -5.55019751e-02],\n",
              "        [ 3.24544013e-01,  1.46710977e-01,  5.46016097e-02,\n",
              "          3.97919565e-01, -1.16883725e-01,  2.70119250e-01,\n",
              "         -1.78757951e-01,  1.52005851e-01, -1.86479196e-01,\n",
              "         -1.87217891e-01]], dtype=float32), reduce=reduce_mean)}"
            ]
          },
          "metadata": {},
          "execution_count": 65
        }
      ]
    },
    {
      "cell_type": "markdown",
      "metadata": {
        "id": "Crz2dQZBds89"
      },
      "source": [
        "Before we train our conv net, let's try to better understand concepts of convolution filter and linear layer. In the following, you will take the first very image of the training set, create a simple convolution routine, and show that our own routine matches what Objax returns.\n",
        "\n"
      ]
    },
    {
      "cell_type": "code",
      "metadata": {
        "id": "Epa7ETf6XddH",
        "colab": {
          "base_uri": "https://localhost:8080/",
          "height": 447
        },
        "outputId": "893ffc8a-2df1-4af6-a27c-fbd7d1ef344e"
      },
      "source": [
        "#Let's plot the first image in the training set.\n",
        "plt.imshow(X_train[0].transpose(1,2,0))"
      ],
      "execution_count": null,
      "outputs": [
        {
          "output_type": "execute_result",
          "data": {
            "text/plain": [
              "<matplotlib.image.AxesImage at 0x7e53ddbed5d0>"
            ]
          },
          "metadata": {},
          "execution_count": 6
        },
        {
          "output_type": "display_data",
          "data": {
            "text/plain": [
              "<Figure size 640x480 with 1 Axes>"
            ],
            "image/png": "[encoded data removed]"
          },
          "metadata": {}
        }
      ]
    },
    {
      "cell_type": "markdown",
      "metadata": {
        "id": "PQjS06vgXZ7r"
      },
      "source": [
        "Next, we will pass our image through Objax's convolution routine. Carefully examine the following code and try to understand the dimension of the filter weights and the output."
      ]
    },
    {
      "cell_type": "code",
      "metadata": {
        "id": "vFBbJHBpXXUc",
        "colab": {
          "base_uri": "https://localhost:8080/"
        },
        "outputId": "b1dad52f-f502-4aef-853c-f5828ffe9ba9"
      },
      "source": [
        "# We append the first image with a batch size of 1 so it can be fed into a convolution layer\n",
        "my_image = np.expand_dims(X_train[0], 0)\n",
        "\n",
        "#Consider a very simple CNN filter with stride = 1 and no padding ('VALID').\n",
        "Conv2d = objax.nn.Conv2D(nin = 3, nout = 2, k = 1, strides = 1, padding = 'VALID', use_bias = False)\n",
        "\n",
        "filter_weights = Conv2d.w.value #This is the initial weight of the filter, which we gradually update when training, we ignore bias for now\n",
        "\n",
        "print(\"Filter weights:\", filter_weights)\n",
        "print(\"Conv output:\", Conv2d(my_image))\n",
        "print(\"Conv output shape:\", np.shape(Conv2d(my_image)))"
      ],
      "execution_count": null,
      "outputs": [
        {
          "output_type": "stream",
          "name": "stdout",
          "text": [
            "Filter weights: [[[[-0.00793595 -0.03313438]\n",
            "   [-0.37371355  0.5535953 ]\n",
            "   [-0.90338594  0.7975559 ]]]]\n",
            "Conv output: [[[[-0.13764597 -0.13260663 -0.11394586 ... -1.0565091  -1.0372368\n",
            "    -1.0265776 ]\n",
            "   [-0.18803953 -0.1613772  -0.16433941 ... -1.0636299  -1.0578855\n",
            "    -1.0528462 ]\n",
            "   [-0.19307888 -0.16284275 -0.18953618 ... -1.0450977  -1.0464077\n",
            "    -1.0454603 ]\n",
            "   ...\n",
            "   [-0.22173162 -0.2116529  -0.2116529  ... -0.26574895 -0.27078828\n",
            "    -0.28590634]\n",
            "   [-0.18645613 -0.17637742 -0.17637742 ... -0.29598507 -0.2909457\n",
            "    -0.2909457 ]\n",
            "   [-0.16629872 -0.16125935 -0.16629872 ... -0.36653605 -0.3614967\n",
            "    -0.34637862]]\n",
            "\n",
            "  [[ 0.14684492  0.14167622  0.12304247 ...  1.0799389   1.0625193\n",
            "     1.0532663 ]\n",
            "   [ 0.19853185  0.17051743  0.1747294  ...  1.0903187   1.0867541\n",
            "     1.0815854 ]\n",
            "   [ 0.20370054  0.17268838  0.20057288 ...  1.0754197   1.0782403\n",
            "     1.0752449 ]\n",
            "   ...\n",
            "   [ 0.22742252  0.21708514  0.21708514 ...  0.2755045   0.2806732\n",
            "     0.29617926]\n",
            "   [ 0.19124167  0.18090428  0.18090428 ...  0.30651668  0.30134797\n",
            "     0.30134797]\n",
            "   [ 0.1705669   0.16539821  0.1705669  ...  0.37887838  0.3737097\n",
            "     0.35820362]]]]\n",
            "Conv output shape: (1, 2, 32, 32)\n"
          ]
        }
      ]
    },
    {
      "cell_type": "markdown",
      "metadata": {
        "id": "KsDg8yateSuH"
      },
      "source": [
        "**In the cells below, you will create your own convolution routine that takes in the image and the initial weights used by Objax's own convolution routine (Conv2d.w.value) and show that your convolution routine returns the same value than Objax's.**\n",
        "\n",
        "A simple implementation only requires 4 FOR loops. You may wish to draw inspiration from https://objax.readthedocs.io/en/latest/objax/nn.html?highlight=objax.nn.Conv2D#objax.nn.Conv2D"
      ]
    },
    {
      "cell_type": "code",
      "metadata": {
        "id": "f5B6K9gyXTAx",
        "colab": {
          "base_uri": "https://localhost:8080/"
        },
        "outputId": "47f15bc3-7166-484c-99e9-7d0123f685ee"
      },
      "source": [
        "#Solution to the above problem\n",
        "print(f'Image Dimensions: {my_image.shape}')\n",
        "print(f'Filter Dimensions: {filter_weights.shape}')\n",
        "print(f'Output Dimensions: {np.shape(Conv2d(my_image))}')\n",
        "\n",
        "def my_conv_net(my_image, initial_filter_weights):\n",
        "  # Defining I/O & Filter Dimensions\n",
        "  N, C_in, H, W = my_image.shape\n",
        "  k, k, C_in, C_out = initial_filter_weights.shape\n",
        "  H_out = H - k + 1\n",
        "  W_out = W - k + 1\n",
        "\n",
        "  # Creating output array\n",
        "  my_conv_output = np.zeros((N, C_out, H_out, W_out))\n",
        "  for h in range(0,H_out):\n",
        "    for w in range(0,W_out):\n",
        "      for c in range(0, C_out):\n",
        "        temp = 0\n",
        "        for t in range(0, C_in):\n",
        "            temp += my_image[0, t, 0+h, 0+w] * initial_filter_weights[0,0,t,c]\n",
        "        my_conv_output[0,c,h,w] = temp\n",
        "\n",
        "\n",
        "  return my_conv_output\n",
        "\n",
        "# Storing outputs\n",
        "my_conv_output = my_conv_net(my_image, filter_weights)\n",
        "objax_conv = Conv2d(my_image)\n",
        "\n",
        "# Printing my output\n",
        "print(my_conv_output)"
      ],
      "execution_count": null,
      "outputs": [
        {
          "output_type": "stream",
          "name": "stdout",
          "text": [
            "Image Dimensions: (1, 3, 32, 32)\n",
            "Filter Dimensions: (1, 1, 3, 2)\n",
            "Output Dimensions: (1, 2, 32, 32)\n",
            "[[[[-0.13764597 -0.13260663 -0.11394586 ... -1.05650914 -1.03723681\n",
            "    -1.02657759]\n",
            "   [-0.18803953 -0.16137721 -0.16433941 ... -1.06362987 -1.05788553\n",
            "    -1.05284619]\n",
            "   [-0.19307888 -0.16284275 -0.18953618 ... -1.04509771 -1.0464077\n",
            "    -1.04546034]\n",
            "   ...\n",
            "   [-0.22173162 -0.2116529  -0.2116529  ... -0.26574892 -0.27078828\n",
            "    -0.28590637]\n",
            "   [-0.18645614 -0.17637743 -0.17637743 ... -0.29598504 -0.29094571\n",
            "    -0.29094571]\n",
            "   [-0.16629872 -0.16125935 -0.16629872 ... -0.36653605 -0.36149669\n",
            "    -0.34637862]]\n",
            "\n",
            "  [[ 0.14684492  0.14167622  0.12304246 ...  1.07993889  1.06251943\n",
            "     1.05326629]\n",
            "   [ 0.19853185  0.17051741  0.17472941 ...  1.09031868  1.08675408\n",
            "     1.08158541]\n",
            "   [ 0.20370054  0.17268839  0.20057288 ...  1.07541966  1.07824039\n",
            "     1.0752449 ]\n",
            "   ...\n",
            "   [ 0.22742252  0.21708514  0.21708514 ...  0.2755045   0.28067321\n",
            "     0.29617929]\n",
            "   [ 0.19124167  0.18090428  0.18090428 ...  0.30651665  0.30134797\n",
            "     0.30134797]\n",
            "   [ 0.17056689  0.1653982   0.17056689 ...  0.37887838  0.37370968\n",
            "     0.35820359]]]]\n"
          ]
        }
      ]
    },
    {
      "cell_type": "code",
      "source": [
        "# Checking if outputs are equal (allowed tolerance = 10^-20)\n",
        "if np.allclose(my_conv_output, objax_conv, atol=1e-5):\n",
        "  print('Same output')\n",
        "else:\n",
        "  print(\"Not same\")"
      ],
      "metadata": {
        "colab": {
          "base_uri": "https://localhost:8080/"
        },
        "id": "Fou3q7zXQIEI",
        "outputId": "c422111e-b128-4c85-b576-6998ea5fac3c"
      },
      "execution_count": null,
      "outputs": [
        {
          "output_type": "stream",
          "name": "stdout",
          "text": [
            "Same output\n"
          ]
        }
      ]
    },
    {
      "cell_type": "markdown",
      "metadata": {
        "id": "d9dbovOwiVDE"
      },
      "source": [
        "The outputs of last convolution layer is typically rearranged so it can be fed into a linear layer. Check that calling .mean((2,3)) rearranges the output of your convolution routine by examining the shape of the output. (Not graded) Think about alternative ways of rearranging the output from the convolution layer."
      ]
    },
    {
      "cell_type": "code",
      "metadata": {
        "id": "q7hngIUNXIMQ",
        "colab": {
          "base_uri": "https://localhost:8080/"
        },
        "outputId": "43802fdd-045f-4bc6-d0bb-b0d07ee09e64"
      },
      "source": [
        "# Original output shape\n",
        "print(f'Output shape: {my_conv_output.shape}')\n",
        "\n",
        "#Check that .mean((2,3)) rearranges your image\n",
        "conv_mean = my_conv_output.mean((2,3))\n",
        "print(f'After .mean((2,3)): {conv_mean.shape}')\n",
        "\n",
        "# Taking the mean flattens the input along specified axes\n",
        "print(f'Mean flattens given axies & leaves remaining')\n"
      ],
      "execution_count": null,
      "outputs": [
        {
          "output_type": "stream",
          "name": "stdout",
          "text": [
            "Output shape: (1, 2, 32, 32)\n",
            "After .mean((2,3)): (1, 2)\n",
            "Mean flattens given axies & leaves remaining\n"
          ]
        }
      ]
    },
    {
      "cell_type": "markdown",
      "metadata": {
        "id": "xTWfvL0mis3D"
      },
      "source": [
        "Take your rearranged output and feed it into a linear layer of appropriate size. Here is an example:\n",
        "\n",
        "```\n",
        "Linear_Layer = objax.nn.Linear(N, 1)\n",
        "Y = Linear_Layer(X)\n",
        "```\n",
        "Next, extract the weights and bias of the linear layer using\n",
        "```\n",
        "Linear_Layer.w.value\n",
        "Linear_Layer.b.value\n",
        "```\n",
        "**Using these values, write one line of code that manually implements the linear layer. Show that it provides the same value as Objax's own linear layer.**\n",
        "\n"
      ]
    },
    {
      "cell_type": "code",
      "metadata": {
        "id": "Uq-TkFpgXDC7"
      },
      "source": [
        "# Computing Objax's linear layer\n",
        "Linear_Layer = objax.nn.Linear(32,1)\n",
        "Y = Linear_Layer(my_conv_output)\n",
        "objax_w = Linear_Layer.w\n",
        "objax_b = Linear_Layer.b"
      ],
      "execution_count": null,
      "outputs": []
    },
    {
      "cell_type": "code",
      "source": [
        "# Printing results\n",
        "print(f'Input shape: {my_conv_output.shape}')\n",
        "print(f'Output shape: {Y.shape}')\n",
        "print(f'Linear_Layer w: \\n{objax_w.value}, shape={objax_w.shape}')\n",
        "print(f'Linear_Layer b: {objax_b.value}, shape={objax_b.shape}')\n",
        "\n",
        "# Manual implementation\n",
        "out = objax_b[0] + np.matmul(my_conv_output, objax_w)\n",
        "print(f'\\nManual output: \\n{out}')\n",
        "print(f'\\nLinear_Layer output: \\n{Y}')\n",
        "\n",
        "# Checking if outputs are equal (allowed tolerance = 10^-20)\n",
        "if np.allclose(out, Y, atol=1e-5):\n",
        "  print('\\nSame output')\n",
        "else:\n",
        "  print(\"\\nNot same\")"
      ],
      "metadata": {
        "colab": {
          "base_uri": "https://localhost:8080/"
        },
        "id": "5zlZS1iMcVeL",
        "outputId": "5308786f-8cd4-447f-ca6b-ffe97a1d1c02"
      },
      "execution_count": null,
      "outputs": [
        {
          "output_type": "stream",
          "name": "stdout",
          "text": [
            "Input shape: (1, 2, 32, 32)\n",
            "Output shape: (1, 2, 32, 1)\n",
            "Linear_Layer w: \n",
            "[[ 0.07181977]\n",
            " [-0.10196745]\n",
            " [ 0.00820003]\n",
            " [ 0.1237395 ]\n",
            " [-0.0574109 ]\n",
            " [-0.02737915]\n",
            " [ 0.28378177]\n",
            " [-0.22784506]\n",
            " [-0.08397171]\n",
            " [-0.16876532]\n",
            " [ 0.14764369]\n",
            " [ 0.09835799]\n",
            " [-0.13849373]\n",
            " [ 0.04422297]\n",
            " [-0.09113963]\n",
            " [-0.14171593]\n",
            " [ 0.19352682]\n",
            " [ 0.01211017]\n",
            " [-0.20876473]\n",
            " [-0.35409513]\n",
            " [-0.26532283]\n",
            " [-0.24934544]\n",
            " [-0.02594489]\n",
            " [-0.11474854]\n",
            " [ 0.09008131]\n",
            " [ 0.1367721 ]\n",
            " [-0.02798404]\n",
            " [-0.32208446]\n",
            " [ 0.3762999 ]\n",
            " [ 0.3236498 ]\n",
            " [ 0.2171833 ]\n",
            " [ 0.41979024]], shape=(32, 1)\n",
            "Linear_Layer b: [0.], shape=(1,)\n",
            "\n",
            "Manual output: \n",
            "[[[[-0.8600387 ]\n",
            "   [-0.8481127 ]\n",
            "   [-0.78925973]\n",
            "   [-0.73199356]\n",
            "   [-0.5671425 ]\n",
            "   [-0.1565319 ]\n",
            "   [-0.14273995]\n",
            "   [-0.4417233 ]\n",
            "   [-0.4261802 ]\n",
            "   [-0.21382365]\n",
            "   [ 0.06860697]\n",
            "   [ 0.04092812]\n",
            "   [ 0.02574128]\n",
            "   [ 0.28723824]\n",
            "   [ 0.24857105]\n",
            "   [-0.0023596 ]\n",
            "   [-0.04938373]\n",
            "   [ 0.12212452]\n",
            "   [-0.01584832]\n",
            "   [-0.17677614]\n",
            "   [-0.11472949]\n",
            "   [ 0.04889275]\n",
            "   [ 0.14610511]\n",
            "   [ 0.29882947]\n",
            "   [ 0.31353223]\n",
            "   [ 0.2526731 ]\n",
            "   [ 0.16388072]\n",
            "   [ 0.04770744]\n",
            "   [-0.16729143]\n",
            "   [-0.06688777]\n",
            "   [ 0.05329368]\n",
            "   [-0.07988231]]\n",
            "\n",
            "  [[ 0.8682382 ]\n",
            "   [ 0.8543714 ]\n",
            "   [ 0.79899424]\n",
            "   [ 0.74047196]\n",
            "   [ 0.5542556 ]\n",
            "   [ 0.12253822]\n",
            "   [ 0.13124008]\n",
            "   [ 0.45429137]\n",
            "   [ 0.45148814]\n",
            "   [ 0.23040557]\n",
            "   [-0.06262702]\n",
            "   [-0.02591484]\n",
            "   [-0.01225885]\n",
            "   [-0.28048027]\n",
            "   [-0.2332079 ]\n",
            "   [ 0.03106785]\n",
            "   [ 0.07666899]\n",
            "   [-0.10581987]\n",
            "   [ 0.03251329]\n",
            "   [ 0.19483896]\n",
            "   [ 0.12622964]\n",
            "   [-0.04816919]\n",
            "   [-0.15178502]\n",
            "   [-0.30917326]\n",
            "   [-0.3226616 ]\n",
            "   [-0.25830832]\n",
            "   [-0.1667185 ]\n",
            "   [-0.04784334]\n",
            "   [ 0.172051  ]\n",
            "   [ 0.0674924 ]\n",
            "   [-0.05665168]\n",
            "   [ 0.07925306]]]]\n",
            "\n",
            "Linear_Layer output: \n",
            "[[[[-0.86003876]\n",
            "   [-0.8481127 ]\n",
            "   [-0.7892597 ]\n",
            "   [-0.73199356]\n",
            "   [-0.5671425 ]\n",
            "   [-0.15653193]\n",
            "   [-0.14273992]\n",
            "   [-0.4417233 ]\n",
            "   [-0.42618015]\n",
            "   [-0.21382365]\n",
            "   [ 0.068607  ]\n",
            "   [ 0.04092816]\n",
            "   [ 0.02574131]\n",
            "   [ 0.28723818]\n",
            "   [ 0.2485711 ]\n",
            "   [-0.00235961]\n",
            "   [-0.04938373]\n",
            "   [ 0.12212452]\n",
            "   [-0.01584832]\n",
            "   [-0.17677617]\n",
            "   [-0.11472949]\n",
            "   [ 0.04889275]\n",
            "   [ 0.14610513]\n",
            "   [ 0.2988295 ]\n",
            "   [ 0.3135323 ]\n",
            "   [ 0.2526731 ]\n",
            "   [ 0.16388074]\n",
            "   [ 0.04770746]\n",
            "   [-0.16729145]\n",
            "   [-0.06688778]\n",
            "   [ 0.05329366]\n",
            "   [-0.07988232]]\n",
            "\n",
            "  [[ 0.8682381 ]\n",
            "   [ 0.8543714 ]\n",
            "   [ 0.79899424]\n",
            "   [ 0.74047196]\n",
            "   [ 0.55425566]\n",
            "   [ 0.12253824]\n",
            "   [ 0.13124013]\n",
            "   [ 0.45429137]\n",
            "   [ 0.45148814]\n",
            "   [ 0.23040551]\n",
            "   [-0.06262702]\n",
            "   [-0.02591479]\n",
            "   [-0.01225889]\n",
            "   [-0.28048027]\n",
            "   [-0.23320784]\n",
            "   [ 0.03106785]\n",
            "   [ 0.07666901]\n",
            "   [-0.10581988]\n",
            "   [ 0.03251329]\n",
            "   [ 0.19483897]\n",
            "   [ 0.12622964]\n",
            "   [-0.04816921]\n",
            "   [-0.15178502]\n",
            "   [-0.3091733 ]\n",
            "   [-0.32266158]\n",
            "   [-0.25830835]\n",
            "   [-0.16671851]\n",
            "   [-0.04784335]\n",
            "   [ 0.17205101]\n",
            "   [ 0.0674924 ]\n",
            "   [-0.05665171]\n",
            "   [ 0.07925305]]]]\n",
            "\n",
            "Same output\n"
          ]
        }
      ]
    },
    {
      "cell_type": "markdown",
      "metadata": {
        "id": "96QQXl3d2kZn"
      },
      "source": [
        "You have now completed Part 1 of the assignment. Good job!\n"
      ]
    },
    {
      "cell_type": "code",
      "source": [
        "# Finding sizes of train, test, and validation sets\n",
        "print(f'Number of training samples: {X_train.shape[0]}')\n",
        "print(f'Number of validation samples: {X_valid.shape[0]}')\n",
        "print(f'Number of testing samples: {X_test.shape[0]}')\n",
        "print(f'\\nNumber iterations per epoch (batchsize = 32): {int(X_train.shape[0]/32)}')\n",
        "print(f'Number iterations for 30 epochs (batchsize=32): {int(X_train.shape[0]/32)*30}')"
      ],
      "metadata": {
        "colab": {
          "base_uri": "https://localhost:8080/"
        },
        "id": "uxSSnf_XD0EF",
        "outputId": "fd268f15-3d7b-46f6-c2d7-878451027d3a"
      },
      "execution_count": null,
      "outputs": [
        {
          "output_type": "stream",
          "name": "stdout",
          "text": [
            "Number of training samples: 48000\n",
            "Number of validation samples: 6000\n",
            "Number of testing samples: 6000\n",
            "\n",
            "Number iterations per epoch (batchsize = 32): 1500\n",
            "Number iterations for 30 epochs (batchsize=32): 45000\n"
          ]
        }
      ]
    },
    {
      "cell_type": "markdown",
      "source": [
        "## Handout Questions (Part 1)\n",
        "\n",
        "1. (1 point) Your data has been split into training, validation and test set. Examine the ratio of the split and number of examples in each set. Suppose you were to train on batches of 32 examples each. That is, in each step of gradient descent, you randomly select 32 examples from the training set, compute your average loss on these examples, and then compute the gradient of this average loss with respect to the model parameters.\n",
        "\n",
        "Q1a: How many iterations will it take to go through the entire training set given the number of training examples yielded by the data split?\n",
        "\n",
        "> One epoch is equivalent to iterating through each datapoint within the training set once. Each iteration looks at 32 new examples and the training set has size 48000, thus there are 1500 iterations per epoch with a batchsize of 32.\n",
        "\n",
        "Q1b: How many iterations are there in 30 epochs? Recall that one epoch is the number of iterations needed to train over the entire dataset.\n",
        "\n",
        "> Since there are 1500 iterations per epoch, 30 epochs would consist of 45000 iterations.\n",
        "\n",
        "2. (2 points) Fill in the code for your custom convolution filter and show that it returns the same output as Objax’s own convolution routine.\n",
        ">See above.\n",
        "\n",
        "3. (1 point) Fill in the code for your linear layer, and show that it returns the same output as passing through Objax’s own linear layer.\n",
        ">See above.\n",
        "\n",
        "4. (1 point) Explain in a short paragraph what is the difference between the training and validation set.\n",
        ">The training set is used to fine the optimal parameters (ie weights for neural networks), while the validation set is used to tune the model's hyperparameters. Having these two sets is important because hyperparameter tuning using the training set may increase the chance of memorization and thus reduces the model's ability to generalize. Likewise, performing hyperparameter tuning on the test set is \"cheating\" and not indicitive of a real test result since the model will be able to \"learn\" see the answer."
      ],
      "metadata": {
        "id": "phBZcknrfY8N"
      }
    },
    {
      "cell_type": "markdown",
      "metadata": {
        "id": "2kqaH75UUaSE"
      },
      "source": [
        "##**Part 2. Training and Tuning a CNN**\n",
        "\n",
        "The following starter code trains the neural network in Part 1. However, the optimizer and batch sampling routine are left for you to implement. Complete the lines that says #PUT YOUR CODE HERE#\n",
        "\n",
        "Afterwards, train the model, and observe the training/validation loss and accuracy plots. You should observe that the validation accuracy is low and stagnates after a few epochs."
      ]
    },
    {
      "cell_type": "code",
      "metadata": {
        "id": "zBcHWoCl0URZ"
      },
      "source": [
        "#Define loss function as averaged value of of cross entropies\n",
        "def loss_function(x, labels):\n",
        "    logit = model(x)\n",
        "    return objax.functional.loss.cross_entropy_logits_sparse(logit, labels).mean()\n",
        "\n",
        "#Define a prediction function\n",
        "predict = objax.Jit(lambda x: objax.functional.softmax(model(x)), model.vars())\n",
        "\n",
        "#Create an object that can be used to calculate the gradient and value of loss_function\n",
        "gv= objax.GradValues(loss_function, model.vars())\n",
        "\n",
        "#Create an object that can be used to provide trainable variables in the model\n",
        "tv = objax.ModuleList(objax.TrainRef(x) for x in model.vars().subset(objax.TrainVar))\n",
        "\n",
        "#Training routine\n",
        "def train_op(x, y, learning_rate):\n",
        "    lr = learning_rate\n",
        "    gradient, loss_value = gv(x, y)   # calculate gradient and loss value \"backprop\"\n",
        "    #next we update the trainable parameter using SGD and similar procedure\n",
        "    for grad, params in zip(gradient, tv.vars()):\n",
        "      params.value = params.value - lr*grad #PUT YOUR CODE HERE#\n",
        "    return loss_value                      # return loss value\n",
        "\n",
        "#make train_op (much) faster using JIT compilation\n",
        "train_op = objax.Jit(train_op, gv.vars() + tv.vars())"
      ],
      "execution_count": null,
      "outputs": []
    },
    {
      "cell_type": "code",
      "metadata": {
        "id": "hGPpVTfG0Ug1"
      },
      "source": [
        "def train(EPOCHS = 20, BATCH = 32, LEARNING_RATE = 9e-4):\n",
        "  avg_train_loss_epoch = []\n",
        "  avg_val_loss_epoch = []\n",
        "  train_acc_epoch = []\n",
        "  val_acc_epoch = []\n",
        "\n",
        "  for epoch in range(EPOCHS):\n",
        "      avg_train_loss = 0 # (averaged) training loss per batch\n",
        "      avg_val_loss =  0  # (averaged) validation loss per batch\n",
        "      train_acc = 0      # training accuracy per batch\n",
        "      val_acc = 0        # validation accuracy per batch\n",
        "\n",
        "      # shuffle the examples prior to training to remove correlation\n",
        "      train_indices = np.arange(len(X_train))\n",
        "      np.random.shuffle(train_indices)\n",
        "      for it in range(0, X_train.shape[0], BATCH):\n",
        "          batch = train_indices[it: it+BATCH] #PUT YOUR CODE HERE#\n",
        "          avg_train_loss += float(train_op(X_train[batch], Y_train[batch], LEARNING_RATE)[0]) * len(batch)\n",
        "          train_prediction = predict(X_train[batch]).argmax(1)\n",
        "          train_acc += (np.array(train_prediction).flatten() == Y_train[batch]).sum()\n",
        "      train_acc_epoch.append(train_acc/X_train.shape[0])\n",
        "      avg_train_loss_epoch.append(avg_train_loss/X_train.shape[0])\n",
        "\n",
        "      # run validation\n",
        "      val_indices = np.arange(len(X_valid))\n",
        "      np.random.shuffle(val_indices)\n",
        "      for it in range(0, X_valid.shape[0], BATCH):\n",
        "          batch = val_indices[it: it+BATCH] #PUT YOUR CODE HERE#\n",
        "          avg_val_loss += float(loss_function(X_valid[batch], Y_valid[batch])) * len(batch)\n",
        "          val_prediction = predict(X_valid[batch]).argmax(1)\n",
        "          val_acc += (np.array(val_prediction).flatten() == Y_valid[batch]).sum()\n",
        "      val_acc_epoch.append(val_acc/X_valid.shape[0])\n",
        "      avg_val_loss_epoch.append(avg_val_loss/X_valid.shape[0])\n",
        "\n",
        "      print('Epoch %04d  Training Loss %.2f Validation Loss %.2f Training Accuracy %.2f Validation Accuracy %.2f' % (epoch + 1, avg_train_loss/X_train.shape[0], avg_val_loss/X_valid.shape[0], 100*train_acc/X_train.shape[0], 100*val_acc/X_valid.shape[0]))\n",
        "\n",
        "  #Plot training loss\n",
        "  plt.title(\"Train vs Validation Loss\")\n",
        "  plt.plot(avg_train_loss_epoch, label=\"Train\")\n",
        "  plt.plot(avg_val_loss_epoch, label=\"Validation\")\n",
        "  plt.xlabel(\"Epoch\")\n",
        "  plt.ylabel(\"Loss\")\n",
        "  plt.legend(loc='best')\n",
        "  plt.show()\n",
        "\n",
        "  plt.title(\"Train vs Validation Accuracy\")\n",
        "  plt.plot(train_acc_epoch, label=\"Train\")\n",
        "  plt.plot(val_acc_epoch, label=\"Validation\")\n",
        "  plt.xlabel(\"Epoch\")\n",
        "  plt.ylabel(\"Accuracy (%)\")\n",
        "  plt.legend(loc='best')\n",
        "  plt.show()"
      ],
      "execution_count": null,
      "outputs": []
    },
    {
      "cell_type": "code",
      "source": [
        "print(X_train.shape)"
      ],
      "metadata": {
        "colab": {
          "base_uri": "https://localhost:8080/"
        },
        "id": "-JmyqTSk9HO4",
        "outputId": "b906e449-fb7d-43f9-ecbe-27d64ba881c8"
      },
      "execution_count": null,
      "outputs": [
        {
          "output_type": "stream",
          "name": "stdout",
          "text": [
            "(48000, 3, 32, 32)\n"
          ]
        }
      ]
    },
    {
      "cell_type": "code",
      "metadata": {
        "id": "8YqWtV5VYW45",
        "colab": {
          "base_uri": "https://localhost:8080/",
          "height": 1000
        },
        "outputId": "f270fc6a-55d4-4eb1-a4c3-3a9117aea804"
      },
      "source": [
        "train()"
      ],
      "execution_count": null,
      "outputs": [
        {
          "output_type": "stream",
          "name": "stdout",
          "text": [
            "Epoch 0001  Training Loss 2.30 Validation Loss 2.30 Training Accuracy 9.88 Validation Accuracy 10.03\n",
            "Epoch 0002  Training Loss 2.30 Validation Loss 2.29 Training Accuracy 9.78 Validation Accuracy 10.02\n",
            "Epoch 0003  Training Loss 2.29 Validation Loss 2.29 Training Accuracy 9.90 Validation Accuracy 10.32\n",
            "Epoch 0004  Training Loss 2.29 Validation Loss 2.29 Training Accuracy 10.52 Validation Accuracy 10.58\n",
            "Epoch 0005  Training Loss 2.29 Validation Loss 2.29 Training Accuracy 10.49 Validation Accuracy 11.25\n",
            "Epoch 0006  Training Loss 2.29 Validation Loss 2.28 Training Accuracy 11.10 Validation Accuracy 10.77\n",
            "Epoch 0007  Training Loss 2.28 Validation Loss 2.28 Training Accuracy 11.10 Validation Accuracy 11.62\n",
            "Epoch 0008  Training Loss 2.28 Validation Loss 2.28 Training Accuracy 11.50 Validation Accuracy 12.08\n",
            "Epoch 0009  Training Loss 2.28 Validation Loss 2.27 Training Accuracy 11.84 Validation Accuracy 12.25\n",
            "Epoch 0010  Training Loss 2.27 Validation Loss 2.27 Training Accuracy 12.33 Validation Accuracy 12.58\n",
            "Epoch 0011  Training Loss 2.27 Validation Loss 2.27 Training Accuracy 12.70 Validation Accuracy 12.90\n",
            "Epoch 0012  Training Loss 2.26 Validation Loss 2.26 Training Accuracy 12.94 Validation Accuracy 13.13\n",
            "Epoch 0013  Training Loss 2.26 Validation Loss 2.26 Training Accuracy 13.40 Validation Accuracy 13.50\n",
            "Epoch 0014  Training Loss 2.25 Validation Loss 2.25 Training Accuracy 13.62 Validation Accuracy 13.85\n",
            "Epoch 0015  Training Loss 2.25 Validation Loss 2.24 Training Accuracy 14.31 Validation Accuracy 14.37\n",
            "Epoch 0016  Training Loss 2.24 Validation Loss 2.24 Training Accuracy 14.90 Validation Accuracy 14.60\n",
            "Epoch 0017  Training Loss 2.24 Validation Loss 2.23 Training Accuracy 15.56 Validation Accuracy 15.55\n",
            "Epoch 0018  Training Loss 2.23 Validation Loss 2.22 Training Accuracy 16.02 Validation Accuracy 16.88\n",
            "Epoch 0019  Training Loss 2.22 Validation Loss 2.21 Training Accuracy 16.91 Validation Accuracy 17.40\n",
            "Epoch 0020  Training Loss 2.21 Validation Loss 2.21 Training Accuracy 17.56 Validation Accuracy 18.27\n"
          ]
        },
        {
          "output_type": "display_data",
          "data": {
            "text/plain": [
              "<Figure size 640x480 with 1 Axes>"
            ],
            "image/png": "[encoded data removed]"
          },
          "metadata": {}
        },
        {
          "output_type": "display_data",
          "data": {
            "text/plain": [
              "<Figure size 640x480 with 1 Axes>"
            ],
            "image/png": "[encoded data removed]"
          },
          "metadata": {}
        }
      ]
    },
    {
      "cell_type": "markdown",
      "metadata": {
        "id": "hluN6UIbNyj7"
      },
      "source": [
        "Follow the assignment handout for questions to be answered in this part of the assignment."
      ]
    },
    {
      "cell_type": "markdown",
      "source": [
        "## Handout Questions (Part 2)\n",
        "\n",
        "1. (1 point) Complete the optimizer by using the definition of (stochastic) gradient descent. Note that you need to update params.value, which are the values of the trainable variables of your model.\n",
        ">See above.\n",
        "\n",
        "2. (1 point) Complete the batch sampling code in the train function by specifying a batch of examples. You should make use the lists train indices and val indices.\n",
        ">See above.\n",
        "\n",
        "3. (1 point) Train the model for a few epochs, and observe the training/validation loss and training/validation accuracy plots. Include these plots within the PDF you hand in. You should observe that the validation accuracy is low and stagnates after a few epochs. Next we will go through a rudimentary way of adjusting the hyperparameters of the model which we created.\n",
        ">See above.\n",
        "\n",
        "4. (1 point) In one sentence, define the meaning of a “hyperparameter”. Explain in a short paragraph why it is important not to evaluate the accuracy on the test set until all hyperparameters have been tuned.\n",
        ">Hyperparameters are model parameters which are not updated during training, and instead are set before training. It is important to not evaluate accuracy on the test set until all hyperparameters have been tuned in order to have a more authentic test case, where the test data is completely novel to the model. This is to say that by evaluating testing accuracy and then using this information to update the hyperparameters the model is \"cheating\" by knowing the answer even though the test data is supposed to represent an input that is completely unknown to the model. Thus instead of memorizing the training data the model is able to \"memorize\" the testing data.  \n",
        "\n",
        "5. (2 points) Select 4 hyperparameters associated with your network, one of the hyperparameter must involve your CNN architecture, and come up with two different sets of hyperparameters.\n",
        "For example, suppose my set of hyperparameters are defined as (yours might be different) H = {batch size, learning rate, number of outputs of conv layer 1, number of conv layers}, where conv layer is defined as a composition between filter, activation and pooling, then two sets of hyperparameters may be,\n",
        "H1 = {32, 0.001, 16, 2} H2 = {64, 0.0001, 32, 3}. The hyperparameters that you tune does not need to be specified as a numerical value. For instance, you can specify the optimizer you are using to train the network, or the activation function you are using. You may wish to consult: https://objax.readthedocs.io/en/latest/notebooks/Custom_Networks.html\n",
        "> Let the set of hyperparameters be denoted by H and contain: H = {number conv layers, activation, learning rate, batch size}. Let H1 = {2, tanh, 0.01, 100} and H2 = {3, relu, 0.1, 16}. We are allowed to specify batch size and learning rate for Adam since the Adam optimizer uses both in its algorithm. Two of the selected hyperparameters involve the CNN architecture, which are the optimizer and activation functions.\n",
        "\n",
        "6. (3 points) Create two additional networks M1, M2, each with the set of hyperparameter H1, H2 that you have selected above. Train each model. Report the best validation accuracy as well as the corresponding epoch for which this occurs for the Base Model and your two additional models. For example,\n",
        "Base model: 20% at epoch 22 M1: 30% at epoch 18 M2: 50% at epoch 24\n",
        "Which model performs the best in terms of validation accuracy? These new models do not need to outperform the base model, however, if you are unsatisfied with the validation accuracy, adjust your hyperparameters in the previous part and train until you are satisfied. Don’t forget to report your hyperparameters.\n",
        "> asdf\n",
        "\n",
        "7. (2 points) Based on your answer, which model should you pick as your final model and why? Then evaluate your model on the test set and report final test accuracy.\n",
        ">asdf"
      ],
      "metadata": {
        "id": "Txg73CFtfO7E"
      }
    },
    {
      "cell_type": "code",
      "metadata": {
        "id": "S8LXS4oHZA9M"
      },
      "source": [
        "# Question 6: Creating 2 additional networks\n",
        "\n",
        "# M1: number conv layers = 2, activation = tanh\n",
        "class M1(objax.Module):\n",
        "  def __init__(self, number_of_channels = 3, number_of_classes = 10):\n",
        "    self.conv_1 = objax.nn.Sequential([objax.nn.Conv2D(number_of_channels, 16, 2), objax.functional.tanh])\n",
        "    self.conv_2 = objax.nn.Sequential([objax.nn.Conv2D(16, 32, 2), objax.functional.tanh])\n",
        "    self.linear = objax.nn.Linear(32, number_of_classes)\n",
        "\n",
        "  def __call__(self, x):\n",
        "    x = objax.functional.max_pool_2d(self.conv_1(x), 2, 2)\n",
        "    x = self.conv_2(x)\n",
        "\n",
        "    x = x.mean((2,3)) # global average pooling\n",
        "    x = self.linear(x)\n",
        "    return x\n",
        "\n",
        "# M2: number conv layers = 3, activation = relu\n",
        "class M2(objax.Module):\n",
        "  def __init__(self, number_of_channels = 3, number_of_classes = 10):\n",
        "    self.conv_1 = objax.nn.Sequential([objax.nn.Conv2D(number_of_channels, 16, 2), objax.functional.relu])\n",
        "    self.conv_2 = objax.nn.Sequential([objax.nn.Conv2D(16, 32, 2), objax.functional.relu])\n",
        "    self.conv_3 = objax.nn.Sequential([objax.nn.Conv2D(32, 32, 2), objax.functional.relu])\n",
        "    self.linear = objax.nn.Linear(32, number_of_classes)\n",
        "\n",
        "  def __call__(self, x):\n",
        "    x = objax.functional.max_pool_2d(self.conv_1(x), 2, 2)\n",
        "    x = objax.functional.max_pool_2d(self.conv_2(x), 2, 2)\n",
        "    x = self.conv_3(x)\n",
        "\n",
        "    x = x.mean((2,3)) # global average pooling\n",
        "    x = self.linear(x)\n",
        "    return x\n",
        "\n",
        "# Create 2 CNNs from M1 & M2\n",
        "M1_model = M1()\n",
        "M2_model = M2()"
      ],
      "execution_count": null,
      "outputs": []
    },
    {
      "cell_type": "code",
      "source": [
        "#Define loss function as averaged value of of cross entropies\n",
        "def loss_function_M1(x, labels):\n",
        "    logit = M1_model(x)\n",
        "    return objax.functional.loss.cross_entropy_logits_sparse(logit, labels).mean()\n",
        "\n",
        "def loss_function_M2(x, labels):\n",
        "    logit = M2_model(x)\n",
        "    return objax.functional.loss.cross_entropy_logits_sparse(logit, labels).mean()\n",
        "\n",
        "#Define a prediction function\n",
        "predict_M1 = objax.Jit(lambda x: objax.functional.softmax(M1_model(x)), M1_model.vars())\n",
        "predict_M2 = objax.Jit(lambda x: objax.functional.softmax(M2_model(x)), M2_model.vars())\n",
        "\n",
        "#Create an object that can be used to calculate the gradient and value of loss_function\n",
        "gv_M1 = objax.GradValues(loss_function_M1, M1_model.vars())\n",
        "gv_M2 = objax.GradValues(loss_function_M2, M2_model.vars())\n",
        "\n",
        "#Create an object that can be used to provide trainable variables in the model\n",
        "tv_M1 = objax.ModuleList(objax.TrainRef(x) for x in M1_model.vars().subset(objax.TrainVar))\n",
        "tv_M2 = objax.ModuleList(objax.TrainRef(x) for x in M2_model.vars().subset(objax.TrainVar))\n",
        "\n",
        "#Training routine\n",
        "def train_op_M1(x, y, learning_rate):\n",
        "    lr = learning_rate\n",
        "    gradient, loss_value = gv_M1(x, y)   # calculate gradient and loss value \"backprop\"\n",
        "    #next we update the trainable parameter using SGD and similar procedure\n",
        "    for grad, params in zip(gradient, tv_M1.vars()):\n",
        "      params.value = params.value - lr*grad\n",
        "    return loss_value                      # return loss value\n",
        "\n",
        "def train_op_M2(x, y, learning_rate):\n",
        "    lr = learning_rate\n",
        "    gradient, loss_value = gv_M2(x, y)   # calculate gradient and loss value \"backprop\"\n",
        "    #next we update the trainable parameter using SGD and similar procedure\n",
        "    for grad, params in zip(gradient, tv_M2.vars()):\n",
        "      params.value = params.value - lr*grad\n",
        "    return loss_value                      # return loss value\n",
        "\n",
        "#make train_op (much) faster using JIT compilation\n",
        "train_op_M1 = objax.Jit(train_op_M1, gv_M1.vars() + tv_M1.vars())\n",
        "train_op_M2 = objax.Jit(train_op_M2, gv_M2.vars() + tv_M2.vars())"
      ],
      "metadata": {
        "id": "lI3FgsyojYde"
      },
      "execution_count": null,
      "outputs": []
    },
    {
      "cell_type": "code",
      "source": [
        "# M1 Training: learning rate = 0.01, batch size = 100\n",
        "def train_model_M1(EPOCHS = 20, BATCH = 100, LEARNING_RATE = 0.01):\n",
        "  avg_train_loss_epoch = []\n",
        "  avg_val_loss_epoch = []\n",
        "  train_acc_epoch = []\n",
        "  val_acc_epoch = []\n",
        "\n",
        "  for epoch in range(EPOCHS):\n",
        "      avg_train_loss = 0 # (averaged) training loss per batch\n",
        "      avg_val_loss =  0  # (averaged) validation loss per batch\n",
        "      train_acc = 0      # training accuracy per batch\n",
        "      val_acc = 0        # validation accuracy per batch\n",
        "\n",
        "      # shuffle the examples prior to training to remove correlation\n",
        "      train_indices = np.arange(len(X_train))\n",
        "      np.random.shuffle(train_indices)\n",
        "      for it in range(0, X_train.shape[0], BATCH):\n",
        "          batch = train_indices[it: it+BATCH] #PUT YOUR CODE HERE#\n",
        "          avg_train_loss += float(train_op_M1(X_train[batch], Y_train[batch], LEARNING_RATE)[0]) * len(batch)\n",
        "          train_prediction = predict_M1(X_train[batch]).argmax(1)\n",
        "          train_acc += (np.array(train_prediction).flatten() == Y_train[batch]).sum()\n",
        "      train_acc_epoch.append(train_acc/X_train.shape[0])\n",
        "      avg_train_loss_epoch.append(avg_train_loss/X_train.shape[0])\n",
        "\n",
        "      # run validation\n",
        "      val_indices = np.arange(len(X_valid))\n",
        "      np.random.shuffle(val_indices)\n",
        "      for it in range(0, X_valid.shape[0], BATCH):\n",
        "          batch = val_indices[it: it+BATCH] #PUT YOUR CODE HERE#\n",
        "          avg_val_loss += float(loss_function_M1(X_valid[batch], Y_valid[batch])) * len(batch)\n",
        "          val_prediction = predict_M1(X_valid[batch]).argmax(1)\n",
        "          val_acc += (np.array(val_prediction).flatten() == Y_valid[batch]).sum()\n",
        "      val_acc_epoch.append(val_acc/X_valid.shape[0])\n",
        "      avg_val_loss_epoch.append(avg_val_loss/X_valid.shape[0])\n",
        "\n",
        "      print('M1: Epoch %04d  Training Loss %.2f Validation Loss %.2f Training Accuracy %.2f Validation Accuracy %.2f' % (epoch + 1, avg_train_loss/X_train.shape[0], avg_val_loss/X_valid.shape[0], 100*train_acc/X_train.shape[0], 100*val_acc/X_valid.shape[0]))\n",
        "\n",
        "  #Plot training loss\n",
        "  plt.title(\"Train vs Validation Loss (M1)\")\n",
        "  plt.plot(avg_train_loss_epoch, label=\"Train\")\n",
        "  plt.plot(avg_val_loss_epoch, label=\"Validation\")\n",
        "  plt.xlabel(\"Epoch\")\n",
        "  plt.ylabel(\"Loss\")\n",
        "  plt.legend(loc='best')\n",
        "  plt.show()\n",
        "\n",
        "  plt.title(\"Train vs Validation Accuracy (M1)\")\n",
        "  plt.plot(train_acc_epoch, label=\"Train\")\n",
        "  plt.plot(val_acc_epoch, label=\"Validation\")\n",
        "  plt.xlabel(\"Epoch\")\n",
        "  plt.ylabel(\"Accuracy (%)\")\n",
        "  plt.legend(loc='best')\n",
        "  plt.show()"
      ],
      "metadata": {
        "id": "9UHhG2cljmCf"
      },
      "execution_count": null,
      "outputs": []
    },
    {
      "cell_type": "code",
      "source": [
        "# M2 training: learning rate = 0.1, batch size = 16\n",
        "def train_model_M2(EPOCHS = 20, BATCH = 16, LEARNING_RATE = 0.1):\n",
        "  avg_train_loss_epoch = []\n",
        "  avg_val_loss_epoch = []\n",
        "  train_acc_epoch = []\n",
        "  val_acc_epoch = []\n",
        "\n",
        "  for epoch in range(EPOCHS):\n",
        "      avg_train_loss = 0 # (averaged) training loss per batch\n",
        "      avg_val_loss =  0  # (averaged) validation loss per batch\n",
        "      train_acc = 0      # training accuracy per batch\n",
        "      val_acc = 0        # validation accuracy per batch\n",
        "\n",
        "      # shuffle the examples prior to training to remove correlation\n",
        "      train_indices = np.arange(len(X_train))\n",
        "      np.random.shuffle(train_indices)\n",
        "      for it in range(0, X_train.shape[0], BATCH):\n",
        "          batch = train_indices[it: it+BATCH] #PUT YOUR CODE HERE#\n",
        "          avg_train_loss += float(train_op_M2(X_train[batch], Y_train[batch], LEARNING_RATE)[0]) * len(batch)\n",
        "          train_prediction = predict_M2(X_train[batch]).argmax(1)\n",
        "          train_acc += (np.array(train_prediction).flatten() == Y_train[batch]).sum()\n",
        "      train_acc_epoch.append(train_acc/X_train.shape[0])\n",
        "      avg_train_loss_epoch.append(avg_train_loss/X_train.shape[0])\n",
        "\n",
        "      # run validation\n",
        "      val_indices = np.arange(len(X_valid))\n",
        "      np.random.shuffle(val_indices)\n",
        "      for it in range(0, X_valid.shape[0], BATCH):\n",
        "          batch = val_indices[it: it+BATCH] #PUT YOUR CODE HERE#\n",
        "          avg_val_loss += float(loss_function_M2(X_valid[batch], Y_valid[batch])) * len(batch)\n",
        "          val_prediction = predict_M2(X_valid[batch]).argmax(1)\n",
        "          val_acc += (np.array(val_prediction).flatten() == Y_valid[batch]).sum()\n",
        "      val_acc_epoch.append(val_acc/X_valid.shape[0])\n",
        "      avg_val_loss_epoch.append(avg_val_loss/X_valid.shape[0])\n",
        "\n",
        "      print('M2: Epoch %04d  Training Loss %.2f Validation Loss %.2f Training Accuracy %.2f Validation Accuracy %.2f' % (epoch + 1, avg_train_loss/X_train.shape[0], avg_val_loss/X_valid.shape[0], 100*train_acc/X_train.shape[0], 100*val_acc/X_valid.shape[0]))\n",
        "\n",
        "  #Plot training loss\n",
        "  plt.title(\"Train vs Validation Loss (M2)\")\n",
        "  plt.plot(avg_train_loss_epoch, label=\"Train\")\n",
        "  plt.plot(avg_val_loss_epoch, label=\"Validation\")\n",
        "  plt.xlabel(\"Epoch\")\n",
        "  plt.ylabel(\"Loss\")\n",
        "  plt.legend(loc='best')\n",
        "  plt.show()\n",
        "\n",
        "  plt.title(\"Train vs Validation Accuracy (M2)\")\n",
        "  plt.plot(train_acc_epoch, label=\"Train\")\n",
        "  plt.plot(val_acc_epoch, label=\"Validation\")\n",
        "  plt.xlabel(\"Epoch\")\n",
        "  plt.ylabel(\"Accuracy (%)\")\n",
        "  plt.legend(loc='best')\n",
        "  plt.show()"
      ],
      "metadata": {
        "id": "g3IAhpd7lka2"
      },
      "execution_count": null,
      "outputs": []
    },
    {
      "cell_type": "code",
      "source": [
        "train_model_M1()"
      ],
      "metadata": {
        "colab": {
          "base_uri": "https://localhost:8080/",
          "height": 1000
        },
        "id": "S_Qzu9zSmq_9",
        "outputId": "6f79749b-4671-43e0-de67-5affeb543e04"
      },
      "execution_count": null,
      "outputs": [
        {
          "output_type": "stream",
          "name": "stdout",
          "text": [
            "M1: Epoch 0001  Training Loss 2.30 Validation Loss 2.28 Training Accuracy 12.67 Validation Accuracy 15.82\n",
            "M1: Epoch 0002  Training Loss 2.26 Validation Loss 2.25 Training Accuracy 17.98 Validation Accuracy 18.22\n",
            "M1: Epoch 0003  Training Loss 2.23 Validation Loss 2.20 Training Accuracy 20.11 Validation Accuracy 21.40\n",
            "M1: Epoch 0004  Training Loss 2.18 Validation Loss 2.16 Training Accuracy 21.39 Validation Accuracy 21.83\n",
            "M1: Epoch 0005  Training Loss 2.14 Validation Loss 2.12 Training Accuracy 22.15 Validation Accuracy 22.73\n",
            "M1: Epoch 0006  Training Loss 2.11 Validation Loss 2.10 Training Accuracy 22.90 Validation Accuracy 22.05\n",
            "M1: Epoch 0007  Training Loss 2.09 Validation Loss 2.08 Training Accuracy 23.39 Validation Accuracy 23.12\n",
            "M1: Epoch 0008  Training Loss 2.07 Validation Loss 2.06 Training Accuracy 23.72 Validation Accuracy 23.38\n",
            "M1: Epoch 0009  Training Loss 2.06 Validation Loss 2.05 Training Accuracy 24.20 Validation Accuracy 23.73\n",
            "M1: Epoch 0010  Training Loss 2.05 Validation Loss 2.04 Training Accuracy 24.70 Validation Accuracy 24.33\n",
            "M1: Epoch 0011  Training Loss 2.04 Validation Loss 2.03 Training Accuracy 25.23 Validation Accuracy 25.05\n",
            "M1: Epoch 0012  Training Loss 2.03 Validation Loss 2.02 Training Accuracy 25.62 Validation Accuracy 25.17\n",
            "M1: Epoch 0013  Training Loss 2.02 Validation Loss 2.01 Training Accuracy 26.00 Validation Accuracy 25.87\n",
            "M1: Epoch 0014  Training Loss 2.01 Validation Loss 2.00 Training Accuracy 26.35 Validation Accuracy 26.52\n",
            "M1: Epoch 0015  Training Loss 2.00 Validation Loss 1.99 Training Accuracy 26.77 Validation Accuracy 26.97\n",
            "M1: Epoch 0016  Training Loss 1.99 Validation Loss 1.98 Training Accuracy 26.97 Validation Accuracy 27.25\n",
            "M1: Epoch 0017  Training Loss 1.98 Validation Loss 1.97 Training Accuracy 27.21 Validation Accuracy 27.73\n",
            "M1: Epoch 0018  Training Loss 1.97 Validation Loss 1.97 Training Accuracy 27.67 Validation Accuracy 27.27\n",
            "M1: Epoch 0019  Training Loss 1.96 Validation Loss 1.96 Training Accuracy 27.77 Validation Accuracy 27.75\n",
            "M1: Epoch 0020  Training Loss 1.96 Validation Loss 1.95 Training Accuracy 28.31 Validation Accuracy 28.57\n"
          ]
        },
        {
          "output_type": "display_data",
          "data": {
            "text/plain": [
              "<Figure size 640x480 with 1 Axes>"
            ],
            "image/png": "[encoded data removed]"
          },
          "metadata": {}
        },
        {
          "output_type": "display_data",
          "data": {
            "text/plain": [
              "<Figure size 640x480 with 1 Axes>"
            ],
            "image/png": "[encoded data removed]"
          },
          "metadata": {}
        }
      ]
    },
    {
      "cell_type": "code",
      "source": [
        "train_model_M2()"
      ],
      "metadata": {
        "colab": {
          "base_uri": "https://localhost:8080/",
          "height": 1000
        },
        "id": "yVenpPERnL5N",
        "outputId": "becdbcf0-5fd7-41ef-f64f-4da08d68d6f9"
      },
      "execution_count": null,
      "outputs": [
        {
          "output_type": "stream",
          "name": "stdout",
          "text": [
            "M2: Epoch 0001  Training Loss 1.99 Validation Loss 1.75 Training Accuracy 35.21 Validation Accuracy 32.95\n",
            "M2: Epoch 0002  Training Loss 1.64 Validation Loss 1.76 Training Accuracy 51.73 Validation Accuracy 36.37\n",
            "M2: Epoch 0003  Training Loss 1.49 Validation Loss 1.44 Training Accuracy 57.76 Validation Accuracy 48.82\n",
            "M2: Epoch 0004  Training Loss 1.39 Validation Loss 1.33 Training Accuracy 61.50 Validation Accuracy 51.72\n",
            "M2: Epoch 0005  Training Loss 1.32 Validation Loss 1.29 Training Accuracy 64.90 Validation Accuracy 52.60\n",
            "M2: Epoch 0006  Training Loss 1.26 Validation Loss 1.25 Training Accuracy 67.50 Validation Accuracy 53.83\n",
            "M2: Epoch 0007  Training Loss 1.22 Validation Loss 1.22 Training Accuracy 69.52 Validation Accuracy 55.98\n",
            "M2: Epoch 0008  Training Loss 1.19 Validation Loss 1.16 Training Accuracy 70.89 Validation Accuracy 58.25\n",
            "M2: Epoch 0009  Training Loss 1.16 Validation Loss 1.15 Training Accuracy 71.89 Validation Accuracy 59.13\n",
            "M2: Epoch 0010  Training Loss 1.14 Validation Loss 1.20 Training Accuracy 72.64 Validation Accuracy 56.50\n",
            "M2: Epoch 0011  Training Loss 1.12 Validation Loss 1.15 Training Accuracy 73.47 Validation Accuracy 58.62\n",
            "M2: Epoch 0012  Training Loss 1.10 Validation Loss 1.18 Training Accuracy 74.08 Validation Accuracy 57.27\n",
            "M2: Epoch 0013  Training Loss 1.09 Validation Loss 1.12 Training Accuracy 74.59 Validation Accuracy 59.37\n",
            "M2: Epoch 0014  Training Loss 1.08 Validation Loss 1.13 Training Accuracy 75.27 Validation Accuracy 60.10\n",
            "M2: Epoch 0015  Training Loss 1.07 Validation Loss 1.11 Training Accuracy 75.75 Validation Accuracy 60.15\n",
            "M2: Epoch 0016  Training Loss 1.06 Validation Loss 1.15 Training Accuracy 76.23 Validation Accuracy 59.42\n",
            "M2: Epoch 0017  Training Loss 1.04 Validation Loss 1.10 Training Accuracy 76.79 Validation Accuracy 61.40\n",
            "M2: Epoch 0018  Training Loss 1.04 Validation Loss 1.14 Training Accuracy 77.15 Validation Accuracy 59.50\n",
            "M2: Epoch 0019  Training Loss 1.03 Validation Loss 1.06 Training Accuracy 77.57 Validation Accuracy 62.05\n",
            "M2: Epoch 0020  Training Loss 1.02 Validation Loss 1.11 Training Accuracy 77.84 Validation Accuracy 60.63\n"
          ]
        },
        {
          "output_type": "display_data",
          "data": {
            "text/plain": [
              "<Figure size 640x480 with 1 Axes>"
            ],
            "image/png": "[encoded data removed]"
          },
          "metadata": {}
        },
        {
          "output_type": "display_data",
          "data": {
            "text/plain": [
              "<Figure size 640x480 with 1 Axes>"
            ],
            "image/png": "[encoded data removed]"
          },
          "metadata": {}
        }
      ]
    },
    {
      "cell_type": "markdown",
      "source": [
        "## Handout Questions (Part 2) continued...\n",
        "6. (3 points) Create two additional networks M1, M2, each with the set of hyperparameter H1, H2 that you have selected above. Train each model. Report the best validation accuracy as well as the corresponding epoch for which this occurs for the Base Model and your two additional models. For example,\n",
        "Base model: 20% at epoch 22 M1: 30% at epoch 18 M2: 50% at epoch 24\n",
        "Which model performs the best in terms of validation accuracy? These new models do not need to outperform the base model, however, if you are unsatisfied with the validation accuracy, adjust your hyperparameters in the previous part and train until you are satisfied. Don’t forget to report your hyperparameters.\n",
        "\n",
        ">Best validation accuracy:\n",
        ">*   Base: 18.27% at epoch 20\n",
        "*   M1: 32.22% at epoch 19\n",
        "*   M2: 62.43% at epoch 20\n",
        "\n",
        ">The model which performs best in terms of validation accuracy is M2 which has hyperparameters H2 = {number conv layers = 3, activation = relu, learning rate = 0.1, batch size = 16}.\n",
        "\n",
        ">The second best model is M1 where H1 = {number conv layers = 2, activation = tanh, learning rate = 0.01, batch size = 100}.\n",
        "\n",
        ">The worst validation accuracy came from the base case where H = {number conv layers = 2, activation = relu, learning rate = 9e-4, batch size = 32}.\n",
        "\n",
        "7. (2 points) Based on your answer, which model should you pick as your final model and why? Then evaluate your model on the test set and report final test accuracy.\n",
        ">I would choose M2 as my final model since it has highest validation accuracy and does not require significant computation time. On the test set this model outperformed the rest as expected achieving 59.92% test accuracy, compared to M1 at 27.83% and base at 18.4%."
      ],
      "metadata": {
        "id": "ZZ_MMNJsp4v8"
      }
    },
    {
      "cell_type": "code",
      "source": [
        "# M2 test accuracy\n",
        "M2_test_prediction = predict_M2(X_test).argmax(1)\n",
        "M2_test_acc = (np.array(M2_test_prediction).flatten() == Y_test).sum()\n",
        "M2_test_accuracy_percentage = 100*M2_test_acc/X_test.shape[0]\n",
        "\n",
        "# M1 test accuracy\n",
        "M1_test_prediction = predict_M1(X_test).argmax(1)\n",
        "M1_test_acc = (np.array(M1_test_prediction).flatten() == Y_test).sum()\n",
        "M1_test_accuracy_percentage = 100*M1_test_acc/X_test.shape[0]\n",
        "\n",
        "# Base test accuracy\n",
        "base_test_prediction = predict(X_test).argmax(1)\n",
        "base_test_acc = (np.array(base_test_prediction).flatten() == Y_test).sum()\n",
        "base_test_accuracy_percentage = 100*base_test_acc/X_test.shape[0]\n",
        "\n",
        "# Printing results\n",
        "print(f'Base test accuracy: {round(base_test_accuracy_percentage,2)}%')\n",
        "print(f'M1 test accuracy: {round(M1_test_accuracy_percentage,2)}%')\n",
        "print(f'M2 test accuracy: {round(M2_test_accuracy_percentage,2)}%')"
      ],
      "metadata": {
        "colab": {
          "base_uri": "https://localhost:8080/"
        },
        "id": "RFZvaeSV4GnQ",
        "outputId": "d1fedbbd-56df-4474-9e2c-8cc171d4dbce"
      },
      "execution_count": null,
      "outputs": [
        {
          "output_type": "stream",
          "name": "stdout",
          "text": [
            "Base test accuracy: 18.4%\n",
            "M1 test accuracy: 27.83%\n",
            "M2 test accuracy: 59.92%\n"
          ]
        }
      ]
    },
    {
      "cell_type": "markdown",
      "metadata": {
        "id": "_XOXmJiGZF78"
      },
      "source": [
        "You have now completed Part 2 of the assignment. Good job!\n"
      ]
    },
    {
      "cell_type": "markdown",
      "metadata": {
        "id": "cno9fjO1o2Jq"
      },
      "source": [
        "##**Part 3. Trying Out a New Dataset**\n",
        "\n",
        "To solidify your knowledge of training and tuning of a CNN, you will run another set of experiments on a new dataset. It should closely follow what you have done in Part 2. You will develop your own network to classify the data included in the dataset you picked. You may re-use any part of the starter code (e.g., for dataloading).\n",
        "\n",
        "Pick a dataset of your own choosing from the following link (under “Image classification”):\n",
        "https://www.tensorflow.org/datasets/catalog/overview\n",
        "\n",
        "###Step 1: *(1 point)*\n",
        "Import and partition your data"
      ]
    },
    {
      "cell_type": "code",
      "source": [
        "(X_train, Y_train), (X_test, Y_test) = tf.keras.datasets.mnist.load_data()\n",
        "X_train = X_train.transpose(0, 1, 2) / 255.0\n",
        "Y_train = Y_train.flatten()\n",
        "X_test = X_test.transpose(0, 1, 2) / 255.0\n",
        "Y_test = Y_test.flatten()\n",
        "\n",
        "np.random.seed(1)\n",
        "# To create a validation set, we first concate the original splitted dataset into a single dataset\n",
        "# then randomly shuffle the images and labels in the same way (seed = 1)\n",
        "X_data = np.concatenate([X_train, X_test], axis = 0)\n",
        "Y_data = np.concatenate([Y_train, Y_test], axis = 0)\n",
        "\n",
        "N = np.arange(len(X_data))\n",
        "np.random.shuffle(N)\n",
        "X_data = X_data[N]\n",
        "Y_data = Y_data[N]\n",
        "\n",
        "#Next, we partition the randomly shuffled dataset into training, validation and testset according a ratio\n",
        "train_ratio = 0.80\n",
        "valid_ratio = 0.1\n",
        "n_train = int(len(X_data) * train_ratio)\n",
        "n_valid = int(len(X_data) * valid_ratio)\n",
        "\n",
        "X_train, X_valid, X_test = X_data[:n_train], X_data[n_train:n_train+n_valid], X_data[n_train+n_valid:]\n",
        "Y_train, Y_valid, Y_test = Y_data[:n_train], Y_data[n_train:n_train+n_valid], Y_data[n_train+n_valid:]"
      ],
      "metadata": {
        "colab": {
          "base_uri": "https://localhost:8080/"
        },
        "id": "sfclOmms2s8W",
        "outputId": "7c2d5338-99e8-4406-942b-0a8286402f8c"
      },
      "execution_count": null,
      "outputs": [
        {
          "output_type": "stream",
          "name": "stdout",
          "text": [
            "Downloading data from https://storage.googleapis.com/tensorflow/tf-keras-datasets/mnist.npz\n",
            "11490434/11490434 [==============================] - 0s 0us/step\n"
          ]
        }
      ]
    },
    {
      "cell_type": "code",
      "source": [
        "def plot_example(X, y):\n",
        "    \"\"\"Plot the first 5 images and their labels in a row.\"\"\"\n",
        "    for i, (img, y) in enumerate(zip(X[:5].reshape(5, 28, 28), y[:5])):\n",
        "        plt.subplot(151 + i)\n",
        "        plt.imshow(img)\n",
        "        plt.xticks([])\n",
        "        plt.yticks([])\n",
        "        plt.title(y)"
      ],
      "metadata": {
        "id": "AzzK4wts1uHR"
      },
      "execution_count": null,
      "outputs": []
    },
    {
      "cell_type": "code",
      "source": [
        "plot_example(X_train, Y_train)\n",
        "\n",
        "# reshaping X:\n",
        "X_train = X_train.reshape(-1, 1, 28, 28)\n",
        "X_test = X_test.reshape(-1, 1, 28, 28)\n",
        "X_valid = X_valid.reshape(-1, 1, 28, 28)\n",
        "\n",
        "print(X_train.shape)"
      ],
      "metadata": {
        "colab": {
          "base_uri": "https://localhost:8080/",
          "height": 161
        },
        "id": "7FYNmh3e1v-h",
        "outputId": "8898ff56-1786-4a79-d54e-e07f53f9d807"
      },
      "execution_count": null,
      "outputs": [
        {
          "output_type": "stream",
          "name": "stdout",
          "text": [
            "(56000, 1, 28, 28)\n"
          ]
        },
        {
          "output_type": "display_data",
          "data": {
            "text/plain": [
              "<Figure size 640x480 with 5 Axes>"
            ],
            "image/png": "[encoded data removed]"
          },
          "metadata": {}
        }
      ]
    },
    {
      "cell_type": "markdown",
      "source": [
        "###Step 2: *(1 point)*\n",
        "Create a base model to start out with"
      ],
      "metadata": {
        "id": "Uj1nIfz5JJRU"
      }
    },
    {
      "cell_type": "code",
      "source": [
        "# let base model = CNN with 2 convolution layers using 2D batch normalization\n",
        "class BaseModel(objax.Module):\n",
        "  '''CNN base model using 2 convolutional layers, activation = relu, pooling = BatchNorm2D'''\n",
        "  def __init__(self, number_of_channels = 1, number_of_classes = 10):\n",
        "    self.conv_1 = objax.nn.Sequential([objax.nn.Conv2D(number_of_channels, 16, 2), objax.nn.BatchNorm2D(16), objax.functional.relu])\n",
        "    self.conv_2 = objax.nn.Sequential([objax.nn.Conv2D(16, 32, 2), objax.nn.BatchNorm2D(32), objax.functional.relu])\n",
        "    self.linear = objax.nn.Linear(32, number_of_classes)\n",
        "\n",
        "  def __call__(self, x, training):\n",
        "    x = objax.functional.max_pool_2d(self.conv_1(x, training=training), 2, 2)\n",
        "    x = self.conv_2(x, training=training)\n",
        "\n",
        "    x = x.mean((2,3)) # global average pooling\n",
        "    x = self.linear(x)\n",
        "    return x\n",
        "\n",
        "base_model = BaseModel()"
      ],
      "metadata": {
        "id": "7_412QRSJIaq"
      },
      "execution_count": null,
      "outputs": []
    },
    {
      "cell_type": "code",
      "source": [
        "#Define loss function as averaged value of of cross entropies\n",
        "def loss_function_base(x, labels):\n",
        "    logit = base_model(x, training=True)\n",
        "    return objax.functional.loss.cross_entropy_logits_sparse(logit, labels).mean()\n",
        "\n",
        "#Define a prediction function\n",
        "predict_base = objax.Jit(lambda x: objax.functional.softmax(base_model(x, training=False)), base_model.vars())\n",
        "\n",
        "#Create an object that can be used to calculate the gradient and value of loss_function\n",
        "gv_base = objax.GradValues(loss_function_base, base_model.vars())\n",
        "\n",
        "#Create an object that can be used to provide trainable variables in the model\n",
        "tv_base = objax.ModuleList(objax.TrainRef(x) for x in base_model.vars().subset(objax.TrainVar))\n",
        "\n",
        "#Training routine\n",
        "def train_op_base(x, y, learning_rate):\n",
        "    lr = learning_rate\n",
        "    gradient, loss_value = gv_base(x, y)   # calculate gradient and loss value \"backprop\"\n",
        "    #next we update the trainable parameter using SGD and similar procedure\n",
        "    for grad, params in zip(gradient, tv_base.vars()):\n",
        "      params.value = params.value - lr*grad\n",
        "    return loss_value                      # return loss value\n",
        "\n",
        "#make train_op (much) faster using JIT compilation\n",
        "train_op_base = objax.Jit(train_op_base, gv_base.vars() + tv_base.vars())"
      ],
      "metadata": {
        "id": "SApS3bj95boC"
      },
      "execution_count": null,
      "outputs": []
    },
    {
      "cell_type": "code",
      "source": [
        "# Base Training: learning rate = 0.01, batch size = 100\n",
        "def train_model_base(EPOCHS = 20, BATCH = 100, LEARNING_RATE = 0.01):\n",
        "  avg_train_loss_epoch = []\n",
        "  avg_val_loss_epoch = []\n",
        "  train_acc_epoch = []\n",
        "  val_acc_epoch = []\n",
        "\n",
        "  for epoch in range(EPOCHS):\n",
        "      avg_train_loss = 0 # (averaged) training loss per batch\n",
        "      avg_val_loss =  0  # (averaged) validation loss per batch\n",
        "      train_acc = 0      # training accuracy per batch\n",
        "      val_acc = 0        # validation accuracy per batch\n",
        "\n",
        "      # shuffle the examples prior to training to remove correlation\n",
        "      train_indices = np.arange(len(X_train))\n",
        "      np.random.shuffle(train_indices)\n",
        "      for it in range(0, X_train.shape[0], BATCH):\n",
        "          batch = train_indices[it: it+BATCH] #PUT YOUR CODE HERE#\n",
        "          avg_train_loss += float(train_op_base(X_train[batch], Y_train[batch], LEARNING_RATE)[0]) * len(batch)\n",
        "          train_prediction = predict_base(X_train[batch]).argmax(1)\n",
        "          train_acc += (np.array(train_prediction).flatten() == Y_train[batch]).sum()\n",
        "      train_acc_epoch.append(train_acc/X_train.shape[0])\n",
        "      avg_train_loss_epoch.append(avg_train_loss/X_train.shape[0])\n",
        "\n",
        "      # run validation\n",
        "      val_indices = np.arange(len(X_valid))\n",
        "      np.random.shuffle(val_indices)\n",
        "      for it in range(0, X_valid.shape[0], BATCH):\n",
        "          batch = val_indices[it: it+BATCH] #PUT YOUR CODE HERE#\n",
        "          avg_val_loss += float(loss_function_base(X_valid[batch], Y_valid[batch])) * len(batch)\n",
        "          val_prediction = predict_base(X_valid[batch]).argmax(1)\n",
        "          val_acc += (np.array(val_prediction).flatten() == Y_valid[batch]).sum()\n",
        "      val_acc_epoch.append(val_acc/X_valid.shape[0])\n",
        "      avg_val_loss_epoch.append(avg_val_loss/X_valid.shape[0])\n",
        "\n",
        "      print('Base: Epoch %04d  Training Loss %.2f Validation Loss %.2f Training Accuracy %.2f Validation Accuracy %.2f' % (epoch + 1, avg_train_loss/X_train.shape[0], avg_val_loss/X_valid.shape[0], 100*train_acc/X_train.shape[0], 100*val_acc/X_valid.shape[0]))\n",
        "\n",
        "  #Plot training loss\n",
        "  plt.title(\"Train vs Validation Loss (Base)\")\n",
        "  plt.plot(avg_train_loss_epoch, label=\"Train\")\n",
        "  plt.plot(avg_val_loss_epoch, label=\"Validation\")\n",
        "  plt.xlabel(\"Epoch\")\n",
        "  plt.ylabel(\"Loss\")\n",
        "  plt.legend(loc='best')\n",
        "  plt.show()\n",
        "\n",
        "  plt.title(\"Train vs Validation Accuracy (Base)\")\n",
        "  plt.plot(train_acc_epoch, label=\"Train\")\n",
        "  plt.plot(val_acc_epoch, label=\"Validation\")\n",
        "  plt.xlabel(\"Epoch\")\n",
        "  plt.ylabel(\"Accuracy (%)\")\n",
        "  plt.legend(loc='best')\n",
        "  plt.show()"
      ],
      "metadata": {
        "id": "AZPAwShi5lNI"
      },
      "execution_count": null,
      "outputs": []
    },
    {
      "cell_type": "code",
      "source": [
        "train_model_base()"
      ],
      "metadata": {
        "colab": {
          "base_uri": "https://localhost:8080/",
          "height": 572
        },
        "id": "gKonzumP40OS",
        "outputId": "3782c0eb-0770-478d-9ae8-7f72de429bc5"
      },
      "execution_count": null,
      "outputs": [
        {
          "output_type": "error",
          "ename": "AssertionError",
          "evalue": "ignored",
          "traceback": [
            "\u001b[0;31m---------------------------------------------------------------------------\u001b[0m",
            "\u001b[0;31mAssertionError\u001b[0m                            Traceback (most recent call last)",
            "\u001b[0;32m/usr/local/lib/python3.10/dist-packages/objax/nn/layers.py\u001b[0m in \u001b[0;36mrun_layer\u001b[0;34m(layer, f, args, kwargs)\u001b[0m\n\u001b[1;32m    487\u001b[0m         \u001b[0;32mtry\u001b[0m\u001b[0;34m:\u001b[0m\u001b[0;34m\u001b[0m\u001b[0;34m\u001b[0m\u001b[0m\n\u001b[0;32m--> 488\u001b[0;31m             \u001b[0;32mreturn\u001b[0m \u001b[0mf\u001b[0m\u001b[0;34m(\u001b[0m\u001b[0;34m*\u001b[0m\u001b[0margs\u001b[0m\u001b[0;34m,\u001b[0m \u001b[0;34m**\u001b[0m\u001b[0mutil\u001b[0m\u001b[0;34m.\u001b[0m\u001b[0mlocal_kwargs\u001b[0m\u001b[0;34m(\u001b[0m\u001b[0mkwargs\u001b[0m\u001b[0;34m,\u001b[0m \u001b[0mf\u001b[0m\u001b[0;34m)\u001b[0m\u001b[0;34m)\u001b[0m\u001b[0;34m\u001b[0m\u001b[0;34m\u001b[0m\u001b[0m\n\u001b[0m\u001b[1;32m    489\u001b[0m         \u001b[0;32mexcept\u001b[0m \u001b[0mException\u001b[0m \u001b[0;32mas\u001b[0m \u001b[0me\u001b[0m\u001b[0;34m:\u001b[0m\u001b[0;34m\u001b[0m\u001b[0;34m\u001b[0m\u001b[0m\n",
            "\u001b[0;32m/usr/local/lib/python3.10/dist-packages/objax/nn/layers.py\u001b[0m in \u001b[0;36m__call__\u001b[0;34m(self, x)\u001b[0m\n\u001b[1;32m    195\u001b[0m         \u001b[0mnin\u001b[0m \u001b[0;34m=\u001b[0m \u001b[0mself\u001b[0m\u001b[0;34m.\u001b[0m\u001b[0mw\u001b[0m\u001b[0;34m.\u001b[0m\u001b[0mvalue\u001b[0m\u001b[0;34m.\u001b[0m\u001b[0mshape\u001b[0m\u001b[0;34m[\u001b[0m\u001b[0;36m2\u001b[0m\u001b[0;34m]\u001b[0m \u001b[0;34m*\u001b[0m \u001b[0mself\u001b[0m\u001b[0;34m.\u001b[0m\u001b[0mgroups\u001b[0m\u001b[0;34m\u001b[0m\u001b[0;34m\u001b[0m\u001b[0m\n\u001b[0;32m--> 196\u001b[0;31m         assert x.shape[1] == nin, (f'Attempting to convolve an input with {x.shape[1]} input channels '\n\u001b[0m\u001b[1;32m    197\u001b[0m                                    \u001b[0;34mf'when the convolution expects {nin} channels. For reference, '\u001b[0m\u001b[0;34m\u001b[0m\u001b[0;34m\u001b[0m\u001b[0m\n",
            "\u001b[0;31mAssertionError\u001b[0m: Attempting to convolve an input with 28 input channels when the convolution expects 1 channels. For reference, self.w.value.shape=(2, 2, 1, 16) and x.shape=(100, 28, 28).",
            "\nThe above exception was the direct cause of the following exception:\n",
            "\u001b[0;31mAssertionError\u001b[0m                            Traceback (most recent call last)",
            "\u001b[0;32m<ipython-input-7-5f1c05b26391>\u001b[0m in \u001b[0;36m<cell line: 1>\u001b[0;34m()\u001b[0m\n\u001b[0;32m----> 1\u001b[0;31m \u001b[0mtrain_model_base\u001b[0m\u001b[0;34m(\u001b[0m\u001b[0;34m)\u001b[0m\u001b[0;34m\u001b[0m\u001b[0;34m\u001b[0m\u001b[0m\n\u001b[0m",
            "\u001b[0;32m<ipython-input-6-6ef4229438d2>\u001b[0m in \u001b[0;36mtrain_model_base\u001b[0;34m(EPOCHS, BATCH, LEARNING_RATE)\u001b[0m\n\u001b[1;32m     17\u001b[0m       \u001b[0;32mfor\u001b[0m \u001b[0mit\u001b[0m \u001b[0;32min\u001b[0m \u001b[0mrange\u001b[0m\u001b[0;34m(\u001b[0m\u001b[0;36m0\u001b[0m\u001b[0;34m,\u001b[0m \u001b[0mX_train\u001b[0m\u001b[0;34m.\u001b[0m\u001b[0mshape\u001b[0m\u001b[0;34m[\u001b[0m\u001b[0;36m0\u001b[0m\u001b[0;34m]\u001b[0m\u001b[0;34m,\u001b[0m \u001b[0mBATCH\u001b[0m\u001b[0;34m)\u001b[0m\u001b[0;34m:\u001b[0m\u001b[0;34m\u001b[0m\u001b[0;34m\u001b[0m\u001b[0m\n\u001b[1;32m     18\u001b[0m           \u001b[0mbatch\u001b[0m \u001b[0;34m=\u001b[0m \u001b[0mtrain_indices\u001b[0m\u001b[0;34m[\u001b[0m\u001b[0mit\u001b[0m\u001b[0;34m:\u001b[0m \u001b[0mit\u001b[0m\u001b[0;34m+\u001b[0m\u001b[0mBATCH\u001b[0m\u001b[0;34m]\u001b[0m \u001b[0;31m#PUT YOUR CODE HERE#\u001b[0m\u001b[0;34m\u001b[0m\u001b[0;34m\u001b[0m\u001b[0m\n\u001b[0;32m---> 19\u001b[0;31m           \u001b[0mavg_train_loss\u001b[0m \u001b[0;34m+=\u001b[0m \u001b[0mfloat\u001b[0m\u001b[0;34m(\u001b[0m\u001b[0mtrain_op_base\u001b[0m\u001b[0;34m(\u001b[0m\u001b[0mX_train\u001b[0m\u001b[0;34m[\u001b[0m\u001b[0mbatch\u001b[0m\u001b[0;34m]\u001b[0m\u001b[0;34m,\u001b[0m \u001b[0mY_train\u001b[0m\u001b[0;34m[\u001b[0m\u001b[0mbatch\u001b[0m\u001b[0;34m]\u001b[0m\u001b[0;34m,\u001b[0m \u001b[0mLEARNING_RATE\u001b[0m\u001b[0;34m)\u001b[0m\u001b[0;34m[\u001b[0m\u001b[0;36m0\u001b[0m\u001b[0;34m]\u001b[0m\u001b[0;34m)\u001b[0m \u001b[0;34m*\u001b[0m \u001b[0mlen\u001b[0m\u001b[0;34m(\u001b[0m\u001b[0mbatch\u001b[0m\u001b[0;34m)\u001b[0m\u001b[0;34m\u001b[0m\u001b[0;34m\u001b[0m\u001b[0m\n\u001b[0m\u001b[1;32m     20\u001b[0m           \u001b[0mtrain_prediction\u001b[0m \u001b[0;34m=\u001b[0m \u001b[0mpredict_base\u001b[0m\u001b[0;34m(\u001b[0m\u001b[0mX_train\u001b[0m\u001b[0;34m[\u001b[0m\u001b[0mbatch\u001b[0m\u001b[0;34m]\u001b[0m\u001b[0;34m)\u001b[0m\u001b[0;34m.\u001b[0m\u001b[0margmax\u001b[0m\u001b[0;34m(\u001b[0m\u001b[0;36m1\u001b[0m\u001b[0;34m)\u001b[0m\u001b[0;34m\u001b[0m\u001b[0;34m\u001b[0m\u001b[0m\n\u001b[1;32m     21\u001b[0m           \u001b[0mtrain_acc\u001b[0m \u001b[0;34m+=\u001b[0m \u001b[0;34m(\u001b[0m\u001b[0mnp\u001b[0m\u001b[0;34m.\u001b[0m\u001b[0marray\u001b[0m\u001b[0;34m(\u001b[0m\u001b[0mtrain_prediction\u001b[0m\u001b[0;34m)\u001b[0m\u001b[0;34m.\u001b[0m\u001b[0mflatten\u001b[0m\u001b[0;34m(\u001b[0m\u001b[0;34m)\u001b[0m \u001b[0;34m==\u001b[0m \u001b[0mY_train\u001b[0m\u001b[0;34m[\u001b[0m\u001b[0mbatch\u001b[0m\u001b[0;34m]\u001b[0m\u001b[0;34m)\u001b[0m\u001b[0;34m.\u001b[0m\u001b[0msum\u001b[0m\u001b[0;34m(\u001b[0m\u001b[0;34m)\u001b[0m\u001b[0;34m\u001b[0m\u001b[0;34m\u001b[0m\u001b[0m\n",
            "\u001b[0;32m/usr/local/lib/python3.10/dist-packages/objax/module.py\u001b[0m in \u001b[0;36m__call__\u001b[0;34m(self, *args, **kwargs)\u001b[0m\n\u001b[1;32m    255\u001b[0m     \u001b[0;32mdef\u001b[0m \u001b[0m__call__\u001b[0m\u001b[0;34m(\u001b[0m\u001b[0mself\u001b[0m\u001b[0;34m,\u001b[0m \u001b[0;34m*\u001b[0m\u001b[0margs\u001b[0m\u001b[0;34m,\u001b[0m \u001b[0;34m**\u001b[0m\u001b[0mkwargs\u001b[0m\u001b[0;34m)\u001b[0m\u001b[0;34m:\u001b[0m\u001b[0;34m\u001b[0m\u001b[0;34m\u001b[0m\u001b[0m\n\u001b[1;32m    256\u001b[0m         \u001b[0;34m\"\"\"Call the compiled version of the function or module.\"\"\"\u001b[0m\u001b[0;34m\u001b[0m\u001b[0;34m\u001b[0m\u001b[0m\n\u001b[0;32m--> 257\u001b[0;31m         \u001b[0moutput\u001b[0m\u001b[0;34m,\u001b[0m \u001b[0mchanges\u001b[0m \u001b[0;34m=\u001b[0m \u001b[0mself\u001b[0m\u001b[0;34m.\u001b[0m\u001b[0m_call\u001b[0m\u001b[0;34m(\u001b[0m\u001b[0mself\u001b[0m\u001b[0;34m.\u001b[0m\u001b[0mvc\u001b[0m\u001b[0;34m.\u001b[0m\u001b[0mtensors\u001b[0m\u001b[0;34m(\u001b[0m\u001b[0;34m)\u001b[0m\u001b[0;34m,\u001b[0m \u001b[0mkwargs\u001b[0m\u001b[0;34m,\u001b[0m \u001b[0;34m*\u001b[0m\u001b[0margs\u001b[0m\u001b[0;34m)\u001b[0m\u001b[0;34m\u001b[0m\u001b[0;34m\u001b[0m\u001b[0m\n\u001b[0m\u001b[1;32m    258\u001b[0m         \u001b[0mself\u001b[0m\u001b[0;34m.\u001b[0m\u001b[0mvc\u001b[0m\u001b[0;34m.\u001b[0m\u001b[0massign\u001b[0m\u001b[0;34m(\u001b[0m\u001b[0mchanges\u001b[0m\u001b[0;34m)\u001b[0m\u001b[0;34m\u001b[0m\u001b[0;34m\u001b[0m\u001b[0m\n\u001b[1;32m    259\u001b[0m         \u001b[0;32mreturn\u001b[0m \u001b[0moutput\u001b[0m\u001b[0;34m\u001b[0m\u001b[0;34m\u001b[0m\u001b[0m\n",
            "    \u001b[0;31m[... skipping hidden 12 frame]\u001b[0m\n",
            "\u001b[0;32m/usr/local/lib/python3.10/dist-packages/objax/module.py\u001b[0m in \u001b[0;36mjit\u001b[0;34m(tensor_list, kwargs, *args)\u001b[0m\n\u001b[1;32m    245\u001b[0m             \u001b[0;32mtry\u001b[0m\u001b[0;34m:\u001b[0m\u001b[0;34m\u001b[0m\u001b[0;34m\u001b[0m\u001b[0m\n\u001b[1;32m    246\u001b[0m                 \u001b[0mself\u001b[0m\u001b[0;34m.\u001b[0m\u001b[0mvc\u001b[0m\u001b[0;34m.\u001b[0m\u001b[0massign\u001b[0m\u001b[0;34m(\u001b[0m\u001b[0mtensor_list\u001b[0m\u001b[0;34m)\u001b[0m\u001b[0;34m\u001b[0m\u001b[0;34m\u001b[0m\u001b[0m\n\u001b[0;32m--> 247\u001b[0;31m                 \u001b[0;32mreturn\u001b[0m \u001b[0mf\u001b[0m\u001b[0;34m(\u001b[0m\u001b[0;34m*\u001b[0m\u001b[0margs\u001b[0m\u001b[0;34m,\u001b[0m \u001b[0;34m**\u001b[0m\u001b[0mkwargs\u001b[0m\u001b[0;34m)\u001b[0m\u001b[0;34m,\u001b[0m \u001b[0mself\u001b[0m\u001b[0;34m.\u001b[0m\u001b[0mvc\u001b[0m\u001b[0;34m.\u001b[0m\u001b[0mtensors\u001b[0m\u001b[0;34m(\u001b[0m\u001b[0;34m)\u001b[0m\u001b[0;34m\u001b[0m\u001b[0;34m\u001b[0m\u001b[0m\n\u001b[0m\u001b[1;32m    248\u001b[0m             \u001b[0;32mfinally\u001b[0m\u001b[0;34m:\u001b[0m\u001b[0;34m\u001b[0m\u001b[0;34m\u001b[0m\u001b[0m\n\u001b[1;32m    249\u001b[0m                 \u001b[0mself\u001b[0m\u001b[0;34m.\u001b[0m\u001b[0mvc\u001b[0m\u001b[0;34m.\u001b[0m\u001b[0massign\u001b[0m\u001b[0;34m(\u001b[0m\u001b[0moriginal_values\u001b[0m\u001b[0;34m)\u001b[0m\u001b[0;34m\u001b[0m\u001b[0;34m\u001b[0m\u001b[0m\n",
            "\u001b[0;32m/usr/local/lib/python3.10/dist-packages/objax/module.py\u001b[0m in \u001b[0;36m__call__\u001b[0;34m(self, *args, **kwargs)\u001b[0m\n\u001b[1;32m    181\u001b[0m     \u001b[0;32mdef\u001b[0m \u001b[0m__call__\u001b[0m\u001b[0;34m(\u001b[0m\u001b[0mself\u001b[0m\u001b[0;34m,\u001b[0m \u001b[0;34m*\u001b[0m\u001b[0margs\u001b[0m\u001b[0;34m,\u001b[0m \u001b[0;34m**\u001b[0m\u001b[0mkwargs\u001b[0m\u001b[0;34m)\u001b[0m\u001b[0;34m:\u001b[0m\u001b[0;34m\u001b[0m\u001b[0;34m\u001b[0m\u001b[0m\n\u001b[1;32m    182\u001b[0m         \u001b[0;34m\"\"\"Call the the function.\"\"\"\u001b[0m\u001b[0;34m\u001b[0m\u001b[0;34m\u001b[0m\u001b[0m\n\u001b[0;32m--> 183\u001b[0;31m         \u001b[0;32mreturn\u001b[0m \u001b[0mself\u001b[0m\u001b[0;34m.\u001b[0m\u001b[0m__wrapped__\u001b[0m\u001b[0;34m(\u001b[0m\u001b[0;34m*\u001b[0m\u001b[0margs\u001b[0m\u001b[0;34m,\u001b[0m \u001b[0;34m**\u001b[0m\u001b[0mkwargs\u001b[0m\u001b[0;34m)\u001b[0m\u001b[0;34m\u001b[0m\u001b[0;34m\u001b[0m\u001b[0m\n\u001b[0m\u001b[1;32m    184\u001b[0m \u001b[0;34m\u001b[0m\u001b[0m\n\u001b[1;32m    185\u001b[0m     \u001b[0;32mdef\u001b[0m \u001b[0mvars\u001b[0m\u001b[0;34m(\u001b[0m\u001b[0mself\u001b[0m\u001b[0;34m,\u001b[0m \u001b[0mscope\u001b[0m\u001b[0;34m:\u001b[0m \u001b[0mstr\u001b[0m \u001b[0;34m=\u001b[0m \u001b[0;34m''\u001b[0m\u001b[0;34m)\u001b[0m \u001b[0;34m->\u001b[0m \u001b[0mVarCollection\u001b[0m\u001b[0;34m:\u001b[0m\u001b[0;34m\u001b[0m\u001b[0;34m\u001b[0m\u001b[0m\n",
            "\u001b[0;32m<ipython-input-5-3a5385b2be31>\u001b[0m in \u001b[0;36mtrain_op_base\u001b[0;34m(x, y, learning_rate)\u001b[0m\n\u001b[1;32m     16\u001b[0m \u001b[0;32mdef\u001b[0m \u001b[0mtrain_op_base\u001b[0m\u001b[0;34m(\u001b[0m\u001b[0mx\u001b[0m\u001b[0;34m,\u001b[0m \u001b[0my\u001b[0m\u001b[0;34m,\u001b[0m \u001b[0mlearning_rate\u001b[0m\u001b[0;34m)\u001b[0m\u001b[0;34m:\u001b[0m\u001b[0;34m\u001b[0m\u001b[0;34m\u001b[0m\u001b[0m\n\u001b[1;32m     17\u001b[0m     \u001b[0mlr\u001b[0m \u001b[0;34m=\u001b[0m \u001b[0mlearning_rate\u001b[0m\u001b[0;34m\u001b[0m\u001b[0;34m\u001b[0m\u001b[0m\n\u001b[0;32m---> 18\u001b[0;31m     \u001b[0mgradient\u001b[0m\u001b[0;34m,\u001b[0m \u001b[0mloss_value\u001b[0m \u001b[0;34m=\u001b[0m \u001b[0mgv_base\u001b[0m\u001b[0;34m(\u001b[0m\u001b[0mx\u001b[0m\u001b[0;34m,\u001b[0m \u001b[0my\u001b[0m\u001b[0;34m)\u001b[0m   \u001b[0;31m# calculate gradient and loss value \"backprop\"\u001b[0m\u001b[0;34m\u001b[0m\u001b[0;34m\u001b[0m\u001b[0m\n\u001b[0m\u001b[1;32m     19\u001b[0m     \u001b[0;31m#next we update the trainable parameter using SGD and similar procedure\u001b[0m\u001b[0;34m\u001b[0m\u001b[0;34m\u001b[0m\u001b[0m\n\u001b[1;32m     20\u001b[0m     \u001b[0;32mfor\u001b[0m \u001b[0mgrad\u001b[0m\u001b[0;34m,\u001b[0m \u001b[0mparams\u001b[0m \u001b[0;32min\u001b[0m \u001b[0mzip\u001b[0m\u001b[0;34m(\u001b[0m\u001b[0mgradient\u001b[0m\u001b[0;34m,\u001b[0m \u001b[0mtv_base\u001b[0m\u001b[0;34m.\u001b[0m\u001b[0mvars\u001b[0m\u001b[0;34m(\u001b[0m\u001b[0;34m)\u001b[0m\u001b[0;34m)\u001b[0m\u001b[0;34m:\u001b[0m\u001b[0;34m\u001b[0m\u001b[0;34m\u001b[0m\u001b[0m\n",
            "\u001b[0;32m/usr/local/lib/python3.10/dist-packages/objax/gradient.py\u001b[0m in \u001b[0;36m__call__\u001b[0;34m(self, *args, **kwargs)\u001b[0m\n\u001b[1;32m    133\u001b[0m             \u001b[0mA\u001b[0m \u001b[0mtuple\u001b[0m \u001b[0;34m(\u001b[0m\u001b[0mgradients\u001b[0m\u001b[0;34m,\u001b[0m \u001b[0mvalues\u001b[0m \u001b[0mof\u001b[0m \u001b[0mf\u001b[0m\u001b[0;34m)\u001b[0m\u001b[0;34m,\u001b[0m \u001b[0mwhere\u001b[0m \u001b[0mgradients\u001b[0m \u001b[0;32mis\u001b[0m \u001b[0ma\u001b[0m \u001b[0mlist\u001b[0m \u001b[0mcontaining\u001b[0m\u001b[0;34m\u001b[0m\u001b[0;34m\u001b[0m\u001b[0m\n\u001b[1;32m    134\u001b[0m             the input gradients, if any, followed by the variable gradients.\"\"\"\n\u001b[0;32m--> 135\u001b[0;31m         \u001b[0;32mreturn\u001b[0m \u001b[0msuper\u001b[0m\u001b[0;34m(\u001b[0m\u001b[0;34m)\u001b[0m\u001b[0;34m.\u001b[0m\u001b[0m__call__\u001b[0m\u001b[0;34m(\u001b[0m\u001b[0;34m*\u001b[0m\u001b[0margs\u001b[0m\u001b[0;34m,\u001b[0m \u001b[0;34m**\u001b[0m\u001b[0mkwargs\u001b[0m\u001b[0;34m)\u001b[0m\u001b[0;34m\u001b[0m\u001b[0;34m\u001b[0m\u001b[0m\n\u001b[0m\u001b[1;32m    136\u001b[0m \u001b[0;34m\u001b[0m\u001b[0m\n\u001b[1;32m    137\u001b[0m \u001b[0;34m\u001b[0m\u001b[0m\n",
            "\u001b[0;32m/usr/local/lib/python3.10/dist-packages/objax/gradient.py\u001b[0m in \u001b[0;36m__call__\u001b[0;34m(self, *args, **kwargs)\u001b[0m\n\u001b[1;32m     80\u001b[0m         \u001b[0;34m\"\"\"Returns the computed gradients for the first value returned by `f` and optionally values returned by `f`.\"\"\"\u001b[0m\u001b[0;34m\u001b[0m\u001b[0;34m\u001b[0m\u001b[0m\n\u001b[1;32m     81\u001b[0m         \u001b[0minputs\u001b[0m \u001b[0;34m=\u001b[0m \u001b[0;34m[\u001b[0m\u001b[0margs\u001b[0m\u001b[0;34m[\u001b[0m\u001b[0mi\u001b[0m\u001b[0;34m]\u001b[0m \u001b[0;32mfor\u001b[0m \u001b[0mi\u001b[0m \u001b[0;32min\u001b[0m \u001b[0mself\u001b[0m\u001b[0;34m.\u001b[0m\u001b[0minput_argnums\u001b[0m\u001b[0;34m]\u001b[0m\u001b[0;34m\u001b[0m\u001b[0;34m\u001b[0m\u001b[0m\n\u001b[0;32m---> 82\u001b[0;31m         g, aux_out = self._call(inputs + self.vc.subset(TrainVar).tensors(),\n\u001b[0m\u001b[1;32m     83\u001b[0m                                 \u001b[0mself\u001b[0m\u001b[0;34m.\u001b[0m\u001b[0mvc\u001b[0m\u001b[0;34m.\u001b[0m\u001b[0msubset\u001b[0m\u001b[0;34m(\u001b[0m\u001b[0mBaseState\u001b[0m\u001b[0;34m)\u001b[0m\u001b[0;34m.\u001b[0m\u001b[0mtensors\u001b[0m\u001b[0;34m(\u001b[0m\u001b[0;34m)\u001b[0m\u001b[0;34m,\u001b[0m\u001b[0;34m\u001b[0m\u001b[0;34m\u001b[0m\u001b[0m\n\u001b[1;32m     84\u001b[0m                                 list(args), kwargs)\n",
            "    \u001b[0;31m[... skipping hidden 10 frame]\u001b[0m\n",
            "\u001b[0;32m/usr/local/lib/python3.10/dist-packages/objax/gradient.py\u001b[0m in \u001b[0;36mf_func\u001b[0;34m(inputs_and_train_tensors, state_tensors, list_args, kwargs)\u001b[0m\n\u001b[1;32m     65\u001b[0m                 \u001b[0;32mfor\u001b[0m \u001b[0mi\u001b[0m\u001b[0;34m,\u001b[0m \u001b[0marg\u001b[0m \u001b[0;32min\u001b[0m \u001b[0mzip\u001b[0m\u001b[0;34m(\u001b[0m\u001b[0mself\u001b[0m\u001b[0;34m.\u001b[0m\u001b[0minput_argnums\u001b[0m\u001b[0;34m,\u001b[0m \u001b[0minputs\u001b[0m\u001b[0;34m)\u001b[0m\u001b[0;34m:\u001b[0m\u001b[0;34m\u001b[0m\u001b[0;34m\u001b[0m\u001b[0m\n\u001b[1;32m     66\u001b[0m                     \u001b[0mlist_args\u001b[0m\u001b[0;34m[\u001b[0m\u001b[0mi\u001b[0m\u001b[0;34m]\u001b[0m \u001b[0;34m=\u001b[0m \u001b[0marg\u001b[0m\u001b[0;34m\u001b[0m\u001b[0;34m\u001b[0m\u001b[0m\n\u001b[0;32m---> 67\u001b[0;31m                 \u001b[0moutputs\u001b[0m \u001b[0;34m=\u001b[0m \u001b[0mf\u001b[0m\u001b[0;34m(\u001b[0m\u001b[0;34m*\u001b[0m\u001b[0mlist_args\u001b[0m\u001b[0;34m,\u001b[0m \u001b[0;34m**\u001b[0m\u001b[0mkwargs\u001b[0m\u001b[0;34m)\u001b[0m\u001b[0;34m\u001b[0m\u001b[0;34m\u001b[0m\u001b[0m\n\u001b[0m\u001b[1;32m     68\u001b[0m                 \u001b[0;32mif\u001b[0m \u001b[0;32mnot\u001b[0m \u001b[0misinstance\u001b[0m\u001b[0;34m(\u001b[0m\u001b[0moutputs\u001b[0m\u001b[0;34m,\u001b[0m \u001b[0;34m(\u001b[0m\u001b[0mlist\u001b[0m\u001b[0;34m,\u001b[0m \u001b[0mtuple\u001b[0m\u001b[0;34m)\u001b[0m\u001b[0;34m)\u001b[0m\u001b[0;34m:\u001b[0m\u001b[0;34m\u001b[0m\u001b[0;34m\u001b[0m\u001b[0m\n\u001b[1;32m     69\u001b[0m                     \u001b[0moutputs\u001b[0m \u001b[0;34m=\u001b[0m \u001b[0;34m[\u001b[0m\u001b[0moutputs\u001b[0m\u001b[0;34m]\u001b[0m\u001b[0;34m\u001b[0m\u001b[0;34m\u001b[0m\u001b[0m\n",
            "\u001b[0;32m/usr/local/lib/python3.10/dist-packages/objax/module.py\u001b[0m in \u001b[0;36m__call__\u001b[0;34m(self, *args, **kwargs)\u001b[0m\n\u001b[1;32m    181\u001b[0m     \u001b[0;32mdef\u001b[0m \u001b[0m__call__\u001b[0m\u001b[0;34m(\u001b[0m\u001b[0mself\u001b[0m\u001b[0;34m,\u001b[0m \u001b[0;34m*\u001b[0m\u001b[0margs\u001b[0m\u001b[0;34m,\u001b[0m \u001b[0;34m**\u001b[0m\u001b[0mkwargs\u001b[0m\u001b[0;34m)\u001b[0m\u001b[0;34m:\u001b[0m\u001b[0;34m\u001b[0m\u001b[0;34m\u001b[0m\u001b[0m\n\u001b[1;32m    182\u001b[0m         \u001b[0;34m\"\"\"Call the the function.\"\"\"\u001b[0m\u001b[0;34m\u001b[0m\u001b[0;34m\u001b[0m\u001b[0m\n\u001b[0;32m--> 183\u001b[0;31m         \u001b[0;32mreturn\u001b[0m \u001b[0mself\u001b[0m\u001b[0;34m.\u001b[0m\u001b[0m__wrapped__\u001b[0m\u001b[0;34m(\u001b[0m\u001b[0;34m*\u001b[0m\u001b[0margs\u001b[0m\u001b[0;34m,\u001b[0m \u001b[0;34m**\u001b[0m\u001b[0mkwargs\u001b[0m\u001b[0;34m)\u001b[0m\u001b[0;34m\u001b[0m\u001b[0;34m\u001b[0m\u001b[0m\n\u001b[0m\u001b[1;32m    184\u001b[0m \u001b[0;34m\u001b[0m\u001b[0m\n\u001b[1;32m    185\u001b[0m     \u001b[0;32mdef\u001b[0m \u001b[0mvars\u001b[0m\u001b[0;34m(\u001b[0m\u001b[0mself\u001b[0m\u001b[0;34m,\u001b[0m \u001b[0mscope\u001b[0m\u001b[0;34m:\u001b[0m \u001b[0mstr\u001b[0m \u001b[0;34m=\u001b[0m \u001b[0;34m''\u001b[0m\u001b[0;34m)\u001b[0m \u001b[0;34m->\u001b[0m \u001b[0mVarCollection\u001b[0m\u001b[0;34m:\u001b[0m\u001b[0;34m\u001b[0m\u001b[0;34m\u001b[0m\u001b[0m\n",
            "\u001b[0;32m<ipython-input-5-3a5385b2be31>\u001b[0m in \u001b[0;36mloss_function_base\u001b[0;34m(x, labels)\u001b[0m\n\u001b[1;32m      1\u001b[0m \u001b[0;31m#Define loss function as averaged value of of cross entropies\u001b[0m\u001b[0;34m\u001b[0m\u001b[0;34m\u001b[0m\u001b[0m\n\u001b[1;32m      2\u001b[0m \u001b[0;32mdef\u001b[0m \u001b[0mloss_function_base\u001b[0m\u001b[0;34m(\u001b[0m\u001b[0mx\u001b[0m\u001b[0;34m,\u001b[0m \u001b[0mlabels\u001b[0m\u001b[0;34m)\u001b[0m\u001b[0;34m:\u001b[0m\u001b[0;34m\u001b[0m\u001b[0;34m\u001b[0m\u001b[0m\n\u001b[0;32m----> 3\u001b[0;31m     \u001b[0mlogit\u001b[0m \u001b[0;34m=\u001b[0m \u001b[0mbase_model\u001b[0m\u001b[0;34m(\u001b[0m\u001b[0mx\u001b[0m\u001b[0;34m,\u001b[0m \u001b[0mtraining\u001b[0m\u001b[0;34m=\u001b[0m\u001b[0;32mTrue\u001b[0m\u001b[0;34m)\u001b[0m\u001b[0;34m\u001b[0m\u001b[0;34m\u001b[0m\u001b[0m\n\u001b[0m\u001b[1;32m      4\u001b[0m     \u001b[0;32mreturn\u001b[0m \u001b[0mobjax\u001b[0m\u001b[0;34m.\u001b[0m\u001b[0mfunctional\u001b[0m\u001b[0;34m.\u001b[0m\u001b[0mloss\u001b[0m\u001b[0;34m.\u001b[0m\u001b[0mcross_entropy_logits_sparse\u001b[0m\u001b[0;34m(\u001b[0m\u001b[0mlogit\u001b[0m\u001b[0;34m,\u001b[0m \u001b[0mlabels\u001b[0m\u001b[0;34m)\u001b[0m\u001b[0;34m.\u001b[0m\u001b[0mmean\u001b[0m\u001b[0;34m(\u001b[0m\u001b[0;34m)\u001b[0m\u001b[0;34m\u001b[0m\u001b[0;34m\u001b[0m\u001b[0m\n\u001b[1;32m      5\u001b[0m \u001b[0;34m\u001b[0m\u001b[0m\n",
            "\u001b[0;32m<ipython-input-3-383999efd5c5>\u001b[0m in \u001b[0;36m__call__\u001b[0;34m(self, x, training)\u001b[0m\n\u001b[1;32m      8\u001b[0m \u001b[0;34m\u001b[0m\u001b[0m\n\u001b[1;32m      9\u001b[0m   \u001b[0;32mdef\u001b[0m \u001b[0m__call__\u001b[0m\u001b[0;34m(\u001b[0m\u001b[0mself\u001b[0m\u001b[0;34m,\u001b[0m \u001b[0mx\u001b[0m\u001b[0;34m,\u001b[0m \u001b[0mtraining\u001b[0m\u001b[0;34m)\u001b[0m\u001b[0;34m:\u001b[0m\u001b[0;34m\u001b[0m\u001b[0;34m\u001b[0m\u001b[0m\n\u001b[0;32m---> 10\u001b[0;31m     \u001b[0mx\u001b[0m \u001b[0;34m=\u001b[0m \u001b[0mobjax\u001b[0m\u001b[0;34m.\u001b[0m\u001b[0mfunctional\u001b[0m\u001b[0;34m.\u001b[0m\u001b[0mmax_pool_2d\u001b[0m\u001b[0;34m(\u001b[0m\u001b[0mself\u001b[0m\u001b[0;34m.\u001b[0m\u001b[0mconv_1\u001b[0m\u001b[0;34m(\u001b[0m\u001b[0mx\u001b[0m\u001b[0;34m,\u001b[0m \u001b[0mtraining\u001b[0m\u001b[0;34m=\u001b[0m\u001b[0mtraining\u001b[0m\u001b[0;34m)\u001b[0m\u001b[0;34m,\u001b[0m \u001b[0;36m2\u001b[0m\u001b[0;34m,\u001b[0m \u001b[0;36m2\u001b[0m\u001b[0;34m)\u001b[0m\u001b[0;34m\u001b[0m\u001b[0;34m\u001b[0m\u001b[0m\n\u001b[0m\u001b[1;32m     11\u001b[0m     \u001b[0mx\u001b[0m \u001b[0;34m=\u001b[0m \u001b[0mself\u001b[0m\u001b[0;34m.\u001b[0m\u001b[0mconv_2\u001b[0m\u001b[0;34m(\u001b[0m\u001b[0mx\u001b[0m\u001b[0;34m,\u001b[0m \u001b[0mtraining\u001b[0m\u001b[0;34m=\u001b[0m\u001b[0mtraining\u001b[0m\u001b[0;34m)\u001b[0m\u001b[0;34m\u001b[0m\u001b[0;34m\u001b[0m\u001b[0m\n\u001b[1;32m     12\u001b[0m \u001b[0;34m\u001b[0m\u001b[0m\n",
            "\u001b[0;32m/usr/local/lib/python3.10/dist-packages/objax/nn/layers.py\u001b[0m in \u001b[0;36m__call__\u001b[0;34m(self, *args, **kwargs)\u001b[0m\n\u001b[1;32m    495\u001b[0m             \u001b[0;32mreturn\u001b[0m \u001b[0margs\u001b[0m \u001b[0;32mif\u001b[0m \u001b[0mlen\u001b[0m\u001b[0;34m(\u001b[0m\u001b[0margs\u001b[0m\u001b[0;34m)\u001b[0m \u001b[0;34m>\u001b[0m \u001b[0;36m1\u001b[0m \u001b[0;32melse\u001b[0m \u001b[0margs\u001b[0m\u001b[0;34m[\u001b[0m\u001b[0;36m0\u001b[0m\u001b[0;34m]\u001b[0m\u001b[0;34m\u001b[0m\u001b[0;34m\u001b[0m\u001b[0m\n\u001b[1;32m    496\u001b[0m         \u001b[0;32mfor\u001b[0m \u001b[0mi\u001b[0m\u001b[0;34m,\u001b[0m \u001b[0mf\u001b[0m \u001b[0;32min\u001b[0m \u001b[0menumerate\u001b[0m\u001b[0;34m(\u001b[0m\u001b[0mself\u001b[0m\u001b[0;34m[\u001b[0m\u001b[0;34m:\u001b[0m\u001b[0;34m-\u001b[0m\u001b[0;36m1\u001b[0m\u001b[0;34m]\u001b[0m\u001b[0;34m)\u001b[0m\u001b[0;34m:\u001b[0m\u001b[0;34m\u001b[0m\u001b[0;34m\u001b[0m\u001b[0m\n\u001b[0;32m--> 497\u001b[0;31m             \u001b[0margs\u001b[0m \u001b[0;34m=\u001b[0m \u001b[0mself\u001b[0m\u001b[0;34m.\u001b[0m\u001b[0mrun_layer\u001b[0m\u001b[0;34m(\u001b[0m\u001b[0mi\u001b[0m\u001b[0;34m,\u001b[0m \u001b[0mf\u001b[0m\u001b[0;34m,\u001b[0m \u001b[0margs\u001b[0m\u001b[0;34m,\u001b[0m \u001b[0mkwargs\u001b[0m\u001b[0;34m)\u001b[0m\u001b[0;34m\u001b[0m\u001b[0;34m\u001b[0m\u001b[0m\n\u001b[0m\u001b[1;32m    498\u001b[0m             \u001b[0;32mif\u001b[0m \u001b[0;32mnot\u001b[0m \u001b[0misinstance\u001b[0m\u001b[0;34m(\u001b[0m\u001b[0margs\u001b[0m\u001b[0;34m,\u001b[0m \u001b[0mtuple\u001b[0m\u001b[0;34m)\u001b[0m\u001b[0;34m:\u001b[0m\u001b[0;34m\u001b[0m\u001b[0;34m\u001b[0m\u001b[0m\n\u001b[1;32m    499\u001b[0m                 \u001b[0margs\u001b[0m \u001b[0;34m=\u001b[0m \u001b[0;34m(\u001b[0m\u001b[0margs\u001b[0m\u001b[0;34m,\u001b[0m\u001b[0;34m)\u001b[0m\u001b[0;34m\u001b[0m\u001b[0;34m\u001b[0m\u001b[0m\n",
            "\u001b[0;32m/usr/local/lib/python3.10/dist-packages/objax/nn/layers.py\u001b[0m in \u001b[0;36mrun_layer\u001b[0;34m(layer, f, args, kwargs)\u001b[0m\n\u001b[1;32m    488\u001b[0m             \u001b[0;32mreturn\u001b[0m \u001b[0mf\u001b[0m\u001b[0;34m(\u001b[0m\u001b[0;34m*\u001b[0m\u001b[0margs\u001b[0m\u001b[0;34m,\u001b[0m \u001b[0;34m**\u001b[0m\u001b[0mutil\u001b[0m\u001b[0;34m.\u001b[0m\u001b[0mlocal_kwargs\u001b[0m\u001b[0;34m(\u001b[0m\u001b[0mkwargs\u001b[0m\u001b[0;34m,\u001b[0m \u001b[0mf\u001b[0m\u001b[0;34m)\u001b[0m\u001b[0;34m)\u001b[0m\u001b[0;34m\u001b[0m\u001b[0;34m\u001b[0m\u001b[0m\n\u001b[1;32m    489\u001b[0m         \u001b[0;32mexcept\u001b[0m \u001b[0mException\u001b[0m \u001b[0;32mas\u001b[0m \u001b[0me\u001b[0m\u001b[0;34m:\u001b[0m\u001b[0;34m\u001b[0m\u001b[0;34m\u001b[0m\u001b[0m\n\u001b[0;32m--> 490\u001b[0;31m             \u001b[0;32mraise\u001b[0m \u001b[0mtype\u001b[0m\u001b[0;34m(\u001b[0m\u001b[0me\u001b[0m\u001b[0;34m)\u001b[0m\u001b[0;34m(\u001b[0m\u001b[0;34mf'Sequential layer[{layer}] {f} {e}'\u001b[0m\u001b[0;34m)\u001b[0m \u001b[0;32mfrom\u001b[0m \u001b[0me\u001b[0m\u001b[0;34m\u001b[0m\u001b[0;34m\u001b[0m\u001b[0m\n\u001b[0m\u001b[1;32m    491\u001b[0m \u001b[0;34m\u001b[0m\u001b[0m\n\u001b[1;32m    492\u001b[0m     \u001b[0;32mdef\u001b[0m \u001b[0m__call__\u001b[0m\u001b[0;34m(\u001b[0m\u001b[0mself\u001b[0m\u001b[0;34m,\u001b[0m \u001b[0;34m*\u001b[0m\u001b[0margs\u001b[0m\u001b[0;34m,\u001b[0m \u001b[0;34m**\u001b[0m\u001b[0mkwargs\u001b[0m\u001b[0;34m)\u001b[0m \u001b[0;34m->\u001b[0m \u001b[0mUnion\u001b[0m\u001b[0;34m[\u001b[0m\u001b[0mJaxArray\u001b[0m\u001b[0;34m,\u001b[0m \u001b[0mList\u001b[0m\u001b[0;34m[\u001b[0m\u001b[0mJaxArray\u001b[0m\u001b[0;34m]\u001b[0m\u001b[0;34m]\u001b[0m\u001b[0;34m:\u001b[0m\u001b[0;34m\u001b[0m\u001b[0;34m\u001b[0m\u001b[0m\n",
            "\u001b[0;31mAssertionError\u001b[0m: Sequential layer[0] objax.nn.Conv2D(nin=1, nout=16, k=(2, 2), strides=(1, 1), dilations=(1, 1), groups=1, padding='SAME', use_bias=True, w_init=kaiming_normal(*, gain=1)) Attempting to convolve an input with 28 input channels when the convolution expects 1 channels. For reference, self.w.value.shape=(2, 2, 1, 16) and x.shape=(100, 28, 28)."
          ]
        }
      ]
    },
    {
      "cell_type": "markdown",
      "source": [
        "###Step 3: *(3 points)*\n",
        "Pick several hyperparameters you would like to tune and train a model until its validation accuracy is 5-10% better than the base model. Provide a succinct discussion on your design procedure: which hyperparameters you tuned, what is the new validation accuracy.\n",
        ">Both networks have the following layer format: Conv --> BatchNorm2D --> ReLU\n",
        "\n",
        "> Base: H_b = {num conv layers = 2, learning rate = 0.01, batch size = 100, epochs = 20}\n",
        "\n",
        "> Tuned: H_t = {num conv layers = 4, learning rate = 0.1, batch size = 16, epochs = 10}\n",
        "\n",
        "> The maximum validation accuracy increased from 47.49% at epoch 19 for the base model to 99.11% at epoch 5 for the tuned model."
      ],
      "metadata": {
        "id": "oney9ACVJMKZ"
      }
    },
    {
      "cell_type": "code",
      "source": [
        "# let tuned model = base model w/ 2 more conv layers, learning rate = 0.1, and batchsize = 16\n",
        "class TunedModel(objax.Module):\n",
        "  '''CNN tuned model using 4 convolutional layers, activation = relu, pooling = BatchNorm2D'''\n",
        "  def __init__(self, number_of_channels = 1, number_of_classes = 10):\n",
        "    self.conv_1 = objax.nn.Sequential([objax.nn.Conv2D(number_of_channels, 16, 2), objax.nn.BatchNorm2D(16), objax.functional.relu])\n",
        "    self.conv_2 = objax.nn.Sequential([objax.nn.Conv2D(16, 32, 2), objax.nn.BatchNorm2D(32), objax.functional.relu])\n",
        "    self.conv_3 = objax.nn.Sequential([objax.nn.Conv2D(32, 32, 2), objax.nn.BatchNorm2D(32), objax.functional.relu])\n",
        "    self.conv_4 = objax.nn.Sequential([objax.nn.Conv2D(32, 64, 2), objax.nn.BatchNorm2D(64), objax.functional.relu])\n",
        "    self.linear = objax.nn.Linear(64, number_of_classes)\n",
        "\n",
        "  def __call__(self, x, training):\n",
        "    x = objax.functional.max_pool_2d(self.conv_1(x, training=training), 2, 2)\n",
        "    x = objax.functional.max_pool_2d(self.conv_2(x, training=training), 2, 2)\n",
        "    x = objax.functional.max_pool_2d(self.conv_3(x, training=training), 2, 2)\n",
        "    x = self.conv_4(x, training=training)\n",
        "\n",
        "    x = x.mean((2,3)) # global average pooling\n",
        "    x = self.linear(x)\n",
        "    return x\n",
        "\n",
        "tuned_model = TunedModel()"
      ],
      "metadata": {
        "id": "FKq_7d-NJNtM"
      },
      "execution_count": null,
      "outputs": []
    },
    {
      "cell_type": "code",
      "source": [
        "#Define loss function as averaged value of of cross entropies\n",
        "def loss_function_tuned(x, labels):\n",
        "    logit = tuned_model(x, training=True)\n",
        "    return objax.functional.loss.cross_entropy_logits_sparse(logit, labels).mean()\n",
        "\n",
        "#Define a prediction function\n",
        "predict_tuned = objax.Jit(lambda x: objax.functional.softmax(tuned_model(x, training=False)), tuned_model.vars())\n",
        "\n",
        "#Create an object that can be used to calculate the gradient and value of loss_function\n",
        "gv_tuned = objax.GradValues(loss_function_tuned, tuned_model.vars())\n",
        "\n",
        "#Create an object that can be used to provide trainable variables in the model\n",
        "tv_tuned = objax.ModuleList(objax.TrainRef(x) for x in tuned_model.vars().subset(objax.TrainVar))\n",
        "\n",
        "#Training routine\n",
        "def train_op_tuned(x, y, learning_rate):\n",
        "    lr = learning_rate\n",
        "    gradient, loss_value = gv_tuned(x, y)   # calculate gradient and loss value \"backprop\"\n",
        "    #next we update the trainable parameter using SGD and similar procedure\n",
        "    for grad, params in zip(gradient, tv_tuned.vars()):\n",
        "      params.value = params.value - lr*grad\n",
        "    return loss_value                      # return loss value\n",
        "\n",
        "#make train_op (much) faster using JIT compilation\n",
        "train_op_tuned = objax.Jit(train_op_tuned, gv_tuned.vars() + tv_tuned.vars())"
      ],
      "metadata": {
        "id": "mgomOnBRHuhd"
      },
      "execution_count": null,
      "outputs": []
    },
    {
      "cell_type": "code",
      "source": [
        "# Tuned Training: Epochs = 10, learning rate = 0.1, batch size = 16\n",
        "def train_model_tuned(EPOCHS = 10, BATCH = 16, LEARNING_RATE = 0.1):\n",
        "  avg_train_loss_epoch = []\n",
        "  avg_val_loss_epoch = []\n",
        "  train_acc_epoch = []\n",
        "  val_acc_epoch = []\n",
        "\n",
        "  for epoch in range(EPOCHS):\n",
        "      avg_train_loss = 0 # (averaged) training loss per batch\n",
        "      avg_val_loss =  0  # (averaged) validation loss per batch\n",
        "      train_acc = 0      # training accuracy per batch\n",
        "      val_acc = 0        # validation accuracy per batch\n",
        "\n",
        "      # shuffle the examples prior to training to remove correlation\n",
        "      train_indices = np.arange(len(X_train))\n",
        "      np.random.shuffle(train_indices)\n",
        "      for it in range(0, X_train.shape[0], BATCH):\n",
        "          batch = train_indices[it: it+BATCH] #PUT YOUR CODE HERE#\n",
        "          avg_train_loss += float(train_op_tuned(X_train[batch], Y_train[batch], LEARNING_RATE)[0]) * len(batch)\n",
        "          train_prediction = predict_tuned(X_train[batch]).argmax(1)\n",
        "          train_acc += (np.array(train_prediction).flatten() == Y_train[batch]).sum()\n",
        "      train_acc_epoch.append(train_acc/X_train.shape[0])\n",
        "      avg_train_loss_epoch.append(avg_train_loss/X_train.shape[0])\n",
        "\n",
        "      # run validation\n",
        "      val_indices = np.arange(len(X_valid))\n",
        "      np.random.shuffle(val_indices)\n",
        "      for it in range(0, X_valid.shape[0], BATCH):\n",
        "          batch = val_indices[it: it+BATCH] #PUT YOUR CODE HERE#\n",
        "          avg_val_loss += float(loss_function_tuned(X_valid[batch], Y_valid[batch])) * len(batch)\n",
        "          val_prediction = predict_tuned(X_valid[batch]).argmax(1)\n",
        "          val_acc += (np.array(val_prediction).flatten() == Y_valid[batch]).sum()\n",
        "      val_acc_epoch.append(val_acc/X_valid.shape[0])\n",
        "      avg_val_loss_epoch.append(avg_val_loss/X_valid.shape[0])\n",
        "\n",
        "      print('Tuned: Epoch %04d  Training Loss %.2f Validation Loss %.2f Training Accuracy %.2f Validation Accuracy %.2f' % (epoch + 1, avg_train_loss/X_train.shape[0], avg_val_loss/X_valid.shape[0], 100*train_acc/X_train.shape[0], 100*val_acc/X_valid.shape[0]))\n",
        "\n",
        "  #Plot training loss\n",
        "  plt.title(\"Train vs Validation Loss (Tuned)\")\n",
        "  plt.plot(avg_train_loss_epoch, label=\"Train\")\n",
        "  plt.plot(avg_val_loss_epoch, label=\"Validation\")\n",
        "  plt.xlabel(\"Epoch\")\n",
        "  plt.ylabel(\"Loss\")\n",
        "  plt.legend(loc='best')\n",
        "  plt.show()\n",
        "\n",
        "  plt.title(\"Train vs Validation Accuracy (Tuned)\")\n",
        "  plt.plot(train_acc_epoch, label=\"Train\")\n",
        "  plt.plot(val_acc_epoch, label=\"Validation\")\n",
        "  plt.xlabel(\"Epoch\")\n",
        "  plt.ylabel(\"Accuracy (%)\")\n",
        "  plt.legend(loc='best')\n",
        "  plt.show()"
      ],
      "metadata": {
        "id": "41RCdU5EH1IZ"
      },
      "execution_count": null,
      "outputs": []
    },
    {
      "cell_type": "code",
      "source": [
        "train_model_tuned()"
      ],
      "metadata": {
        "colab": {
          "base_uri": "https://localhost:8080/",
          "height": 1000
        },
        "id": "mrQcReZAI2Nk",
        "outputId": "87aa2fbc-595a-4cbd-d26d-21b49a2ee744"
      },
      "execution_count": null,
      "outputs": [
        {
          "output_type": "stream",
          "name": "stdout",
          "text": [
            "Tuned: Epoch 0001  Training Loss 0.01 Validation Loss 0.04 Training Accuracy 99.79 Validation Accuracy 98.80\n",
            "Tuned: Epoch 0002  Training Loss 0.01 Validation Loss 0.04 Training Accuracy 99.74 Validation Accuracy 98.61\n",
            "Tuned: Epoch 0003  Training Loss 0.01 Validation Loss 0.04 Training Accuracy 99.83 Validation Accuracy 98.87\n",
            "Tuned: Epoch 0004  Training Loss 0.01 Validation Loss 0.05 Training Accuracy 99.84 Validation Accuracy 98.69\n",
            "Tuned: Epoch 0005  Training Loss 0.01 Validation Loss 0.04 Training Accuracy 99.87 Validation Accuracy 99.11\n",
            "Tuned: Epoch 0006  Training Loss 0.01 Validation Loss 0.04 Training Accuracy 99.86 Validation Accuracy 99.03\n",
            "Tuned: Epoch 0007  Training Loss 0.01 Validation Loss 0.04 Training Accuracy 99.83 Validation Accuracy 99.03\n",
            "Tuned: Epoch 0008  Training Loss 0.01 Validation Loss 0.04 Training Accuracy 99.92 Validation Accuracy 98.86\n",
            "Tuned: Epoch 0009  Training Loss 0.01 Validation Loss 0.04 Training Accuracy 99.88 Validation Accuracy 98.47\n",
            "Tuned: Epoch 0010  Training Loss 0.01 Validation Loss 0.04 Training Accuracy 99.95 Validation Accuracy 98.97\n"
          ]
        },
        {
          "output_type": "display_data",
          "data": {
            "text/plain": [
              "<Figure size 640x480 with 1 Axes>"
            ],
            "image/png": "[encoded data removed]"
          },
          "metadata": {}
        },
        {
          "output_type": "display_data",
          "data": {
            "text/plain": [
              "<Figure size 640x480 with 1 Axes>"
            ],
            "image/png": "[encoded data removed]"
          },
          "metadata": {}
        }
      ]
    },
    {
      "cell_type": "markdown",
      "source": [
        "\n",
        "###Step 4: *(1 point)*\n",
        "Select your final model and report test accuracy.\n",
        ">I will be selecting my tuned model as my final model, where the test accuracy for the tuned model was 99.07% which is over twice as accurate as the base which had 47.81% test accuracy."
      ],
      "metadata": {
        "id": "_o3Yi5C_JOLH"
      }
    },
    {
      "cell_type": "code",
      "source": [
        "# Base test accuracy\n",
        "base_test_prediction = predict_base(X_test).argmax(1)\n",
        "base_test_acc = (np.array(base_test_prediction).flatten() == Y_test).sum()\n",
        "base_test_accuracy_percentage = 100*base_test_acc/X_test.shape[0]\n",
        "\n",
        "# Tuned test accuracy\n",
        "tuned_test_prediction = predict_tuned(X_test).argmax(1)\n",
        "tuned_test_acc = (np.array(tuned_test_prediction).flatten() == Y_test).sum()\n",
        "tuned_test_accuracy_percentage = 100*tuned_test_acc/X_test.shape[0]\n",
        "\n",
        "# Printing results\n",
        "print(f'Base test accuracy: {round(base_test_accuracy_percentage,2)}%')\n",
        "print(f'Tuned test accuracy: {round(tuned_test_accuracy_percentage,2)}%')"
      ],
      "metadata": {
        "colab": {
          "base_uri": "https://localhost:8080/"
        },
        "id": "00Hbnj3lNTYr",
        "outputId": "10f5b6e1-9404-4650-a803-bc0d314ea1c3"
      },
      "execution_count": null,
      "outputs": [
        {
          "output_type": "stream",
          "name": "stdout",
          "text": [
            "Base test accuracy: 47.81%\n",
            "Tuned test accuracy: 99.07%\n"
          ]
        }
      ]
    },
    {
      "cell_type": "markdown",
      "metadata": {
        "id": "Eye-uBnQWgc8"
      },
      "source": [
        "##**Problem 4. Open-Ended Exploration**\n",
        "\n",
        "In this final part, you will explore one of several questions introducing ways to improve your classification performance through tuning. You may build your experiment on top of either Part 2 or Part 3. ***Pick ONE of the questions below***, perform a small set of NEW experiments that address that question, and provide a discussion.\n",
        "\n",
        "3. **How do optimizers compare?**: Try out at least two optimizers (other than the SGD routine you have implemented in Part 2), clearly state their optimization routine and the rationale behind their implementations, and all hyperparameters associated with each optimizer. Implement them in Objax, then compare their performances on the validation set after some tuning. (You may find objax.optimizer useful) Report the final performance on the test set.\n",
        "\n",
        "Your grade will be allocated on the quality of the discussion, which involves the following components:\n",
        "\n",
        "1. (4 points) A succinct discussion of your problem that involve the following: What was the question? Which hyperparameter(s) did you tune? How many models did you try and what are their performances in terms of validation accuracy? How did you choose your final model?\n",
        "\n",
        "  Note: Your short discussion should be written in a way that can be understood by a fellow classmate. This means you should define technical terms used in your discussion when relevant, and possibly introduce equations to explain concepts clearly. You do not need to tune hyperparameter(s) extensively and only need to include the results associated with your final tuned value. You may wish to include table and figures to support your arguments.\n",
        "\n",
        "2. (1 point) Select your final model and report its test accuracy.\n",
        "\n",
        "Make sure to clearly indicate which of the questions above you are trying to answer. You are only expected to answer one of the questions, but multiple experiments are welcome!"
      ]
    },
    {
      "cell_type": "markdown",
      "source": [
        ">For this part of the assignment I will be using the cifar10 dataset from parts 1&2 while using the same layer architecture from part 3 which is as follows: conv2D --> BatchNorm2D --> ReLU (i.e., conv-bn-relu)"
      ],
      "metadata": {
        "id": "mDNk9QmpRlMk"
      }
    },
    {
      "cell_type": "code",
      "source": [
        "# Using the cifar10 dataset from parts 1&2\n",
        "(X_train, Y_train), (X_test, Y_test) = tf.keras.datasets.cifar10.load_data()\n",
        "X_train = X_train.transpose(0, 3, 1, 2) / 255.0\n",
        "Y_train = Y_train.flatten()\n",
        "X_test = X_test.transpose(0, 3, 1, 2) / 255.0\n",
        "Y_test = Y_test.flatten()\n",
        "\n",
        "np.random.seed(1)\n",
        "# Concatenating & shuffling\n",
        "X_data = np.concatenate([X_train, X_test], axis = 0)\n",
        "Y_data = np.concatenate([Y_train, Y_test], axis = 0)\n",
        "\n",
        "N = np.arange(len(X_data))\n",
        "np.random.shuffle(N)\n",
        "X_data = X_data[N]\n",
        "Y_data = Y_data[N]\n",
        "\n",
        "# Partitioning into train, test, & validation sets\n",
        "train_ratio = 0.80\n",
        "valid_ratio = 0.1\n",
        "n_train = int(len(X_data) * train_ratio)\n",
        "n_valid = int(len(X_data) * valid_ratio)\n",
        "\n",
        "X_train, X_valid, X_test = X_data[:n_train], X_data[n_train:n_train+n_valid], X_data[n_train+n_valid:]\n",
        "Y_train, Y_valid, Y_test = Y_data[:n_train], Y_data[n_train:n_train+n_valid], Y_data[n_train+n_valid:]"
      ],
      "metadata": {
        "colab": {
          "base_uri": "https://localhost:8080/"
        },
        "id": "Sv0MXQqYPljL",
        "outputId": "48da06aa-e0f9-43eb-86a5-3b105b0481ae"
      },
      "execution_count": null,
      "outputs": [
        {
          "output_type": "stream",
          "name": "stdout",
          "text": [
            "Downloading data from https://www.cs.toronto.edu/~kriz/cifar-10-python.tar.gz\n",
            "170498071/170498071 [==============================] - 6s 0us/step\n"
          ]
        }
      ]
    },
    {
      "cell_type": "markdown",
      "source": [
        "### CNN Using Adam Optimizer:"
      ],
      "metadata": {
        "id": "2xAiXmPMUo6_"
      }
    },
    {
      "cell_type": "code",
      "source": [
        "# Creating 4 layer CNN using ADAM optimizer, setting EMA debias to True\n",
        "class AdamModel(objax.Module):\n",
        "  '''CNN Adam model using 4 convolutional layers, activation = relu, pooling = BatchNorm2D'''\n",
        "  def __init__(self, number_of_channels = 3, number_of_classes = 10):\n",
        "    self.conv_1 = objax.nn.Sequential([objax.nn.Conv2D(number_of_channels, 16, 2), objax.nn.BatchNorm2D(16), objax.functional.relu])\n",
        "    self.conv_2 = objax.nn.Sequential([objax.nn.Conv2D(16, 32, 2), objax.nn.BatchNorm2D(32), objax.functional.relu])\n",
        "    self.conv_3 = objax.nn.Sequential([objax.nn.Conv2D(32, 32, 2), objax.nn.BatchNorm2D(32), objax.functional.relu])\n",
        "    self.conv_4 = objax.nn.Sequential([objax.nn.Conv2D(32, 64, 2), objax.nn.BatchNorm2D(64), objax.functional.relu])\n",
        "    self.linear = objax.nn.Linear(64, number_of_classes)\n",
        "\n",
        "  def __call__(self, x, training):\n",
        "    x = objax.functional.max_pool_2d(self.conv_1(x, training=training), 2, 2)\n",
        "    x = objax.functional.max_pool_2d(self.conv_2(x, training=training), 2, 2)\n",
        "    x = objax.functional.max_pool_2d(self.conv_3(x, training=training), 2, 2)\n",
        "    x = self.conv_4(x, training=training)\n",
        "\n",
        "    x = x.mean((2,3))\n",
        "    x = self.linear(x)\n",
        "    return x\n",
        "\n",
        "# create instance of adam model, EMA, and adam optimizer\n",
        "adam_model = AdamModel()\n",
        "model_ema = objax.optimizer.ExponentialMovingAverageModule(adam_model, debias=True)\n",
        "adam_opt = objax.optimizer.Adam(adam_model.vars())"
      ],
      "metadata": {
        "id": "1Rs1ut9ARYSj"
      },
      "execution_count": null,
      "outputs": []
    },
    {
      "cell_type": "code",
      "source": [
        "# average cross entropy loss\n",
        "def loss_function_adam(x, labels):\n",
        "    logit = adam_model(x, training=True)\n",
        "    return objax.functional.loss.cross_entropy_logits_sparse(logit, labels).mean()\n",
        "\n",
        "# prediction fxn\n",
        "predict_adam = objax.Jit(lambda x: objax.functional.softmax(model_ema(x, training=False)), model_ema.vars())\n",
        "\n",
        "# object to find grad of loss\n",
        "gv_adam = objax.GradValues(loss_function_adam, adam_model.vars())\n",
        "\n",
        "# training routine\n",
        "def train_op_adam(x, y, learning_rate):\n",
        "    lr = learning_rate\n",
        "    gradient, loss_value = gv_adam(x, y)\n",
        "    adam_opt(lr, gradient)\n",
        "    model_ema.update_ema()\n",
        "    return loss_value\n",
        "\n",
        "# speeding up train_op with JIT compilation\n",
        "train_op_adam = objax.Jit(train_op_adam, adam_model.vars()+gv_adam.vars()+adam_opt.vars()+model_ema.vars())"
      ],
      "metadata": {
        "id": "utQEEhY5Ucko"
      },
      "execution_count": null,
      "outputs": []
    },
    {
      "cell_type": "code",
      "source": [
        "# Tuned Training: Epochs = 10, learning rate = 0.1, batch size = 16\n",
        "def train_model_adam(EPOCHS = 10, BATCH = 16, LEARNING_RATE = 0.1):\n",
        "  avg_train_loss_epoch = []\n",
        "  avg_val_loss_epoch = []\n",
        "  train_acc_epoch = []\n",
        "  val_acc_epoch = []\n",
        "\n",
        "  for epoch in range(EPOCHS):\n",
        "      avg_train_loss = 0 # (averaged) training loss per batch\n",
        "      avg_val_loss =  0  # (averaged) validation loss per batch\n",
        "      train_acc = 0      # training accuracy per batch\n",
        "      val_acc = 0        # validation accuracy per batch\n",
        "\n",
        "      # shuffle the examples prior to training to remove correlation\n",
        "      train_indices = np.arange(len(X_train))\n",
        "      np.random.shuffle(train_indices)\n",
        "      for it in range(0, X_train.shape[0], BATCH):\n",
        "          batch = train_indices[it: it+BATCH]\n",
        "          avg_train_loss += float(train_op_adam(X_train[batch], Y_train[batch], LEARNING_RATE)[0]) * len(batch)\n",
        "          train_prediction = predict_adam(X_train[batch]).argmax(1)\n",
        "          train_acc += (np.array(train_prediction).flatten() == Y_train[batch]).sum()\n",
        "      train_acc_epoch.append(train_acc/X_train.shape[0])\n",
        "      avg_train_loss_epoch.append(avg_train_loss/X_train.shape[0])\n",
        "\n",
        "      # run validation\n",
        "      val_indices = np.arange(len(X_valid))\n",
        "      np.random.shuffle(val_indices)\n",
        "      for it in range(0, X_valid.shape[0], BATCH):\n",
        "          batch = val_indices[it: it+BATCH]\n",
        "          avg_val_loss += float(loss_function_adam(X_valid[batch], Y_valid[batch])) * len(batch)\n",
        "          val_prediction = predict_adam(X_valid[batch]).argmax(1)\n",
        "          val_acc += (np.array(val_prediction).flatten() == Y_valid[batch]).sum()\n",
        "      val_acc_epoch.append(val_acc/X_valid.shape[0])\n",
        "      avg_val_loss_epoch.append(avg_val_loss/X_valid.shape[0])\n",
        "\n",
        "      print('Adam: Epoch %04d  Training Loss %.2f Validation Loss %.2f Training Accuracy %.2f Validation Accuracy %.2f' % (epoch + 1, avg_train_loss/X_train.shape[0], avg_val_loss/X_valid.shape[0], 100*train_acc/X_train.shape[0], 100*val_acc/X_valid.shape[0]))\n",
        "\n",
        "  #Plot training loss\n",
        "  plt.title(\"Train vs Validation Loss (Adam)\")\n",
        "  plt.plot(avg_train_loss_epoch, label=\"Train\")\n",
        "  plt.plot(avg_val_loss_epoch, label=\"Validation\")\n",
        "  plt.xlabel(\"Epoch\")\n",
        "  plt.ylabel(\"Loss\")\n",
        "  plt.legend(loc='best')\n",
        "  plt.show()\n",
        "\n",
        "  plt.title(\"Train vs Validation Accuracy (Adam)\")\n",
        "  plt.plot(train_acc_epoch, label=\"Train\")\n",
        "  plt.plot(val_acc_epoch, label=\"Validation\")\n",
        "  plt.xlabel(\"Epoch\")\n",
        "  plt.ylabel(\"Accuracy (%)\")\n",
        "  plt.legend(loc='best')\n",
        "  plt.show()"
      ],
      "metadata": {
        "id": "O3HQDOKRUimh"
      },
      "execution_count": null,
      "outputs": []
    },
    {
      "cell_type": "code",
      "source": [
        "train_model_adam()"
      ],
      "metadata": {
        "colab": {
          "base_uri": "https://localhost:8080/",
          "height": 334
        },
        "id": "U0G3S9vDWyDI",
        "outputId": "64d3f321-48bb-4eae-9471-457ccb851148"
      },
      "execution_count": null,
      "outputs": [
        {
          "output_type": "stream",
          "name": "stdout",
          "text": [
            "Adam: Epoch 0001  Training Loss 1.93 Validation Loss 1.82 Training Accuracy 13.78 Validation Accuracy 16.28\n"
          ]
        },
        {
          "output_type": "error",
          "ename": "KeyboardInterrupt",
          "evalue": "ignored",
          "traceback": [
            "\u001b[0;31m---------------------------------------------------------------------------\u001b[0m",
            "\u001b[0;31mKeyboardInterrupt\u001b[0m                         Traceback (most recent call last)",
            "\u001b[0;32m<ipython-input-27-af898ef0e08b>\u001b[0m in \u001b[0;36m<cell line: 1>\u001b[0;34m()\u001b[0m\n\u001b[0;32m----> 1\u001b[0;31m \u001b[0mtrain_model_adam\u001b[0m\u001b[0;34m(\u001b[0m\u001b[0;34m)\u001b[0m\u001b[0;34m\u001b[0m\u001b[0;34m\u001b[0m\u001b[0m\n\u001b[0m",
            "\u001b[0;32m<ipython-input-26-c5e52f0395ab>\u001b[0m in \u001b[0;36mtrain_model_adam\u001b[0;34m(EPOCHS, BATCH, LEARNING_RATE)\u001b[0m\n\u001b[1;32m     17\u001b[0m       \u001b[0;32mfor\u001b[0m \u001b[0mit\u001b[0m \u001b[0;32min\u001b[0m \u001b[0mrange\u001b[0m\u001b[0;34m(\u001b[0m\u001b[0;36m0\u001b[0m\u001b[0;34m,\u001b[0m \u001b[0mX_train\u001b[0m\u001b[0;34m.\u001b[0m\u001b[0mshape\u001b[0m\u001b[0;34m[\u001b[0m\u001b[0;36m0\u001b[0m\u001b[0;34m]\u001b[0m\u001b[0;34m,\u001b[0m \u001b[0mBATCH\u001b[0m\u001b[0;34m)\u001b[0m\u001b[0;34m:\u001b[0m\u001b[0;34m\u001b[0m\u001b[0;34m\u001b[0m\u001b[0m\n\u001b[1;32m     18\u001b[0m           \u001b[0mbatch\u001b[0m \u001b[0;34m=\u001b[0m \u001b[0mtrain_indices\u001b[0m\u001b[0;34m[\u001b[0m\u001b[0mit\u001b[0m\u001b[0;34m:\u001b[0m \u001b[0mit\u001b[0m\u001b[0;34m+\u001b[0m\u001b[0mBATCH\u001b[0m\u001b[0;34m]\u001b[0m\u001b[0;34m\u001b[0m\u001b[0;34m\u001b[0m\u001b[0m\n\u001b[0;32m---> 19\u001b[0;31m           \u001b[0mavg_train_loss\u001b[0m \u001b[0;34m+=\u001b[0m \u001b[0mfloat\u001b[0m\u001b[0;34m(\u001b[0m\u001b[0mtrain_op_adam\u001b[0m\u001b[0;34m(\u001b[0m\u001b[0mX_train\u001b[0m\u001b[0;34m[\u001b[0m\u001b[0mbatch\u001b[0m\u001b[0;34m]\u001b[0m\u001b[0;34m,\u001b[0m \u001b[0mY_train\u001b[0m\u001b[0;34m[\u001b[0m\u001b[0mbatch\u001b[0m\u001b[0;34m]\u001b[0m\u001b[0;34m,\u001b[0m \u001b[0mLEARNING_RATE\u001b[0m\u001b[0;34m)\u001b[0m\u001b[0;34m[\u001b[0m\u001b[0;36m0\u001b[0m\u001b[0;34m]\u001b[0m\u001b[0;34m)\u001b[0m \u001b[0;34m*\u001b[0m \u001b[0mlen\u001b[0m\u001b[0;34m(\u001b[0m\u001b[0mbatch\u001b[0m\u001b[0;34m)\u001b[0m\u001b[0;34m\u001b[0m\u001b[0;34m\u001b[0m\u001b[0m\n\u001b[0m\u001b[1;32m     20\u001b[0m           \u001b[0mtrain_prediction\u001b[0m \u001b[0;34m=\u001b[0m \u001b[0mpredict_adam\u001b[0m\u001b[0;34m(\u001b[0m\u001b[0mX_train\u001b[0m\u001b[0;34m[\u001b[0m\u001b[0mbatch\u001b[0m\u001b[0;34m]\u001b[0m\u001b[0;34m)\u001b[0m\u001b[0;34m.\u001b[0m\u001b[0margmax\u001b[0m\u001b[0;34m(\u001b[0m\u001b[0;36m1\u001b[0m\u001b[0;34m)\u001b[0m\u001b[0;34m\u001b[0m\u001b[0;34m\u001b[0m\u001b[0m\n\u001b[1;32m     21\u001b[0m           \u001b[0mtrain_acc\u001b[0m \u001b[0;34m+=\u001b[0m \u001b[0;34m(\u001b[0m\u001b[0mnp\u001b[0m\u001b[0;34m.\u001b[0m\u001b[0marray\u001b[0m\u001b[0;34m(\u001b[0m\u001b[0mtrain_prediction\u001b[0m\u001b[0;34m)\u001b[0m\u001b[0;34m.\u001b[0m\u001b[0mflatten\u001b[0m\u001b[0;34m(\u001b[0m\u001b[0;34m)\u001b[0m \u001b[0;34m==\u001b[0m \u001b[0mY_train\u001b[0m\u001b[0;34m[\u001b[0m\u001b[0mbatch\u001b[0m\u001b[0;34m]\u001b[0m\u001b[0;34m)\u001b[0m\u001b[0;34m.\u001b[0m\u001b[0msum\u001b[0m\u001b[0;34m(\u001b[0m\u001b[0;34m)\u001b[0m\u001b[0;34m\u001b[0m\u001b[0;34m\u001b[0m\u001b[0m\n",
            "\u001b[0;32m/usr/local/lib/python3.10/dist-packages/objax/module.py\u001b[0m in \u001b[0;36m__call__\u001b[0;34m(self, *args, **kwargs)\u001b[0m\n\u001b[1;32m    255\u001b[0m     \u001b[0;32mdef\u001b[0m \u001b[0m__call__\u001b[0m\u001b[0;34m(\u001b[0m\u001b[0mself\u001b[0m\u001b[0;34m,\u001b[0m \u001b[0;34m*\u001b[0m\u001b[0margs\u001b[0m\u001b[0;34m,\u001b[0m \u001b[0;34m**\u001b[0m\u001b[0mkwargs\u001b[0m\u001b[0;34m)\u001b[0m\u001b[0;34m:\u001b[0m\u001b[0;34m\u001b[0m\u001b[0;34m\u001b[0m\u001b[0m\n\u001b[1;32m    256\u001b[0m         \u001b[0;34m\"\"\"Call the compiled version of the function or module.\"\"\"\u001b[0m\u001b[0;34m\u001b[0m\u001b[0;34m\u001b[0m\u001b[0m\n\u001b[0;32m--> 257\u001b[0;31m         \u001b[0moutput\u001b[0m\u001b[0;34m,\u001b[0m \u001b[0mchanges\u001b[0m \u001b[0;34m=\u001b[0m \u001b[0mself\u001b[0m\u001b[0;34m.\u001b[0m\u001b[0m_call\u001b[0m\u001b[0;34m(\u001b[0m\u001b[0mself\u001b[0m\u001b[0;34m.\u001b[0m\u001b[0mvc\u001b[0m\u001b[0;34m.\u001b[0m\u001b[0mtensors\u001b[0m\u001b[0;34m(\u001b[0m\u001b[0;34m)\u001b[0m\u001b[0;34m,\u001b[0m \u001b[0mkwargs\u001b[0m\u001b[0;34m,\u001b[0m \u001b[0;34m*\u001b[0m\u001b[0margs\u001b[0m\u001b[0;34m)\u001b[0m\u001b[0;34m\u001b[0m\u001b[0;34m\u001b[0m\u001b[0m\n\u001b[0m\u001b[1;32m    258\u001b[0m         \u001b[0mself\u001b[0m\u001b[0;34m.\u001b[0m\u001b[0mvc\u001b[0m\u001b[0;34m.\u001b[0m\u001b[0massign\u001b[0m\u001b[0;34m(\u001b[0m\u001b[0mchanges\u001b[0m\u001b[0;34m)\u001b[0m\u001b[0;34m\u001b[0m\u001b[0;34m\u001b[0m\u001b[0m\n\u001b[1;32m    259\u001b[0m         \u001b[0;32mreturn\u001b[0m \u001b[0moutput\u001b[0m\u001b[0;34m\u001b[0m\u001b[0;34m\u001b[0m\u001b[0m\n",
            "\u001b[0;31mKeyboardInterrupt\u001b[0m: "
          ]
        }
      ]
    },
    {
      "cell_type": "markdown",
      "source": [
        "### CNN Using Momemtum Optimizer"
      ],
      "metadata": {
        "id": "LgC_2IobUm8j"
      }
    },
    {
      "cell_type": "code",
      "source": [
        "# Creating 4 layer CNN using Momentum optimizer\n",
        "class MomentumModel(objax.Module):\n",
        "  '''CNN Momentum model using 4 convolutional layers, activation = relu, pooling = BatchNorm2D'''\n",
        "  def __init__(self, number_of_channels = 3, number_of_classes = 10):\n",
        "    self.conv_1 = objax.nn.Sequential([objax.nn.Conv2D(number_of_channels, 16, 2), objax.nn.BatchNorm2D(16), objax.functional.relu])\n",
        "    self.conv_2 = objax.nn.Sequential([objax.nn.Conv2D(16, 32, 2), objax.nn.BatchNorm2D(32), objax.functional.relu])\n",
        "    self.conv_3 = objax.nn.Sequential([objax.nn.Conv2D(32, 32, 2), objax.nn.BatchNorm2D(32), objax.functional.relu])\n",
        "    self.conv_4 = objax.nn.Sequential([objax.nn.Conv2D(32, 64, 2), objax.nn.BatchNorm2D(64), objax.functional.relu])\n",
        "    self.linear = objax.nn.Linear(64, number_of_classes)\n",
        "\n",
        "  def __call__(self, x, training):\n",
        "    x = objax.functional.max_pool_2d(self.conv_1(x, training=training), 2, 2)\n",
        "    x = objax.functional.max_pool_2d(self.conv_2(x, training=training), 2, 2)\n",
        "    x = objax.functional.max_pool_2d(self.conv_3(x, training=training), 2, 2)\n",
        "    x = self.conv_4(x, training=training)\n",
        "\n",
        "    x = x.mean((2,3)) # global average pooling\n",
        "    x = self.linear(x)\n",
        "    return x\n",
        "\n",
        "momentum_model = MomentumModel()"
      ],
      "metadata": {
        "id": "Qoi215LHSgI_"
      },
      "execution_count": null,
      "outputs": []
    }
  ]
}